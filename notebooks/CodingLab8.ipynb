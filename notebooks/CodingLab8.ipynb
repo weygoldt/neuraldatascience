{
 "cells": [
  {
   "attachments": {},
   "cell_type": "markdown",
   "metadata": {},
   "source": [
    "_Neural Data Science_\n",
    "\n",
    "Lecturer: Prof. Dr. Philipp Berens\n",
    "\n",
    "Tutors: Jonas Beck, Ziwei Huang, Rita González Márquez\n",
    "\n",
    "Summer term 2022\n",
    "\n",
    "Name: FILL IN YOUR NAMES HERE\n",
    "\n",
    "# Coding Lab 8\n",
    "\n"
   ]
  },
  {
   "cell_type": "code",
   "execution_count": 2,
   "metadata": {},
   "outputs": [],
   "source": [
    "import seaborn as sns\n",
    "import matplotlib.pyplot as plt\n",
    "import matplotlib as mpl\n",
    "import numpy as np\n",
    "\n",
    "mpl.rc(\"savefig\", dpi=72)\n",
    "sns.set_style('whitegrid')\n",
    "%matplotlib inline"
   ]
  },
  {
   "cell_type": "markdown",
   "metadata": {},
   "source": [
    "## Task: Implement entropy estimators\n",
    "\n",
    "\n"
   ]
  },
  {
   "cell_type": "markdown",
   "metadata": {},
   "source": [
    "### General framework\n",
    "\n",
    "Entropy is defined as \n",
    "\n",
    "$$\n",
    "H[p] = -\\sum_x p_x \\log p_x\n",
    "$$\n",
    "\n",
    "where $p_x = p(x=X)$. Here we assume that $X$ is a discrete random variable and that there are finitely many states $K$ that $X$ can take.\n",
    "\n",
    "We are interested in the entropy of discrete random variables, because of its relationship with mutual information:\n",
    "\n",
    "$$\n",
    "I[X|Y] = H[X] - H[X|Y]\n",
    "$$\n",
    "\n",
    "If we can estimate the entropy well, we can estimate the mutual information well. An application in neuroscience would be estimating the mutual information between a spike train modeled as a sequence of $1$ s and $0$ s (e.g. $(0,1,0,1,1)$) and a discrete set of stimuli.\n",
    "\n",
    "Note that a multivariate binary distribution modeling a spike train can always be mapped to a discrete univariate distribution, $\\mathbb{Z}_2 \\longrightarrow \\mathbb{Z_+}$, by interpreting each binary state $z \\in \\mathbb{Z}_2$ as its corresponding binary number and computing $f(z) = \\sum_i 2^{i} z_i$.\n",
    "\n",
    "As discussed in the lecture, the problem is that one always underestimates the true entropy of a distribution from samples. In this exercise you are meant to implement different estimators for discrete entropy and evaluate them on different discrete distributions:\n",
    "\n",
    "* Uniform distribution: $p(x=X) = \\frac{1}{K}$\n",
    "\n",
    "* \"Zipf's law\"- distribution: $p(x=X) = \\frac{1}{Z x} $, where $Z = \\sum_k 1/k$\n",
    "\n",
    "There is a really good series of blog posts about discrete entropy estimation to be found [here](http://www.nowozin.net/sebastian/blog/estimating-discrete-entropy-part-1.html), [here](http://www.nowozin.net/sebastian/blog/estimating-discrete-entropy-part-2.html) and [here](http://www.nowozin.net/sebastian/blog/estimating-discrete-entropy-part-3.html). \n",
    "\n",
    "Make sure you use binary logarithms throughout.\n"
   ]
  },
  {
   "attachments": {},
   "cell_type": "markdown",
   "metadata": {},
   "source": [
    "### Implementation of the estimators\n",
    "\n",
    "Implement the\n",
    "\n",
    "* maximum likelihood estimator (1 pt)\n",
    "* miller-maddow corrected estimator (1 pt)\n",
    "* jack-knife corrected estimator (2 pt)\n",
    "* coverage adjusted estimator (1 pt).\n",
    "\n",
    "When implementing the jack-knife estimator, you may want to restrict the amount of resampling for performance reasons e.g. to 1000, even if more samples are available. \n",
    "\n",
    "By definition, $0\\log0=0$. Adapt the interfaces as needed for your implementation.\n",
    "\n",
    "In addition, implement or use one of the following more advanced estimators (1+3 pts, extra points if you use your own implementation):\n",
    "\n",
    "* [JVHW estimator](https://arxiv.org/abs/1406.6956) with code on [github](https://github.com/EEthinker/JVHW_Entropy_Estimators/tree/master/Python)\n",
    "* [Unseen estimator](http://papers.nips.cc/paper/5170-estimating-the-unseen-improved-estimators-for-entropy-and-other-properties) (includes Matlab code in Supplementary)\n",
    "* [Best Upper Bounds estimator](http://www.mitpressjournals.org/doi/abs/10.1162/089976603321780272) (Matlab code available on Ilias)\n",
    "\n",
    "For this part, you are allowed to use an existing implementation as well.\n"
   ]
  },
  {
   "cell_type": "markdown",
   "metadata": {},
   "source": [
    "## MLE\n",
    "\n",
    "$H_{ML}= -\\sum_{x}\\hat{p}(x)log(\\hat{p}(x))$"
   ]
  },
  {
   "cell_type": "code",
   "execution_count": 3,
   "metadata": {},
   "outputs": [],
   "source": [
    "def entropy_mle(phat):\n",
    "    '''Maximum likelihood or plug-in estimator of discrete entropy\n",
    "    \n",
    "    Parameter\n",
    "    ---------\n",
    "    \n",
    "    phat: np.array, shape=(n_bins, )\n",
    "        Estimate of the distribution / histogram\n",
    "    \n",
    "    Return\n",
    "    ------\n",
    "    H: float\n",
    "        Entropy estimate\n",
    "    '''\n",
    "    # insert your code here (1 pt)\n",
    "    # where is phat zero, calulate with 0log0 = 0\n",
    "    H = -np.sum([p * np.log2(p) if p != 0 else 0 for p in phat])\n",
    "    return H\n"
   ]
  },
  {
   "cell_type": "markdown",
   "metadata": {},
   "source": [
    "## Miller-Maddow corrected\n",
    "\n",
    "$H_{MM}=H_{ML}+\\frac{\\hat{d}-1}{2n}$ \n",
    "\n",
    "$ \\hat{d} = \\#[\\hat{p}(x)>0]$ \n",
    "\n"
   ]
  },
  {
   "cell_type": "code",
   "execution_count": 4,
   "metadata": {},
   "outputs": [],
   "source": [
    "def entropy_mm(phat, n):\n",
    "    '''Miller-Maddow corrected estimator of discrete entropy\n",
    "    \n",
    "    Parameters\n",
    "    ----------\n",
    "    \n",
    "    phat: np.array, shape=(n_bins, )\n",
    "        Estimate of the distribution / histogram\n",
    "        \n",
    "    n:  int\n",
    "        Number of samples\n",
    "    \n",
    "\n",
    "    Return\n",
    "    ------\n",
    "    \n",
    "    H: float\n",
    "        Entropy estimate\n",
    "    '''\n",
    "\n",
    "    # insert your code here (1 pt)\n",
    "    dhat = np.sum(phat > 0)\n",
    "    H = entropy_mle(phat) + (dhat - 1) / (2 * n)\n",
    "    \n",
    "    return H\n"
   ]
  },
  {
   "cell_type": "markdown",
   "metadata": {},
   "source": [
    "## Jack-knife corrected\n",
    "\n",
    "$\\hat{H}_{JK} = N\\hat{H}_{ML} - (N-1)\\hat{H}_{ML}^{(.)}$ \n",
    "\n",
    "$\\hat{H}_{ML}^{(.)} = <H_{ML}^{\\lnot i}>$"
   ]
  },
  {
   "cell_type": "code",
   "execution_count": 5,
   "metadata": {},
   "outputs": [],
   "source": [
    "def entropy_jk(x, edges):\n",
    "    '''Jack-knife corrected estimator of discrete entropy\n",
    "    \n",
    "    Parameters\n",
    "    ----------\n",
    "    x: np.array, shape=(n_samples, )\n",
    "        Samples\n",
    "        \n",
    "    edges: np.array, shape=(n_bins, )\n",
    "        Histogram bin edges\n",
    "    \n",
    "    \n",
    "    Return\n",
    "    ------\n",
    "    \n",
    "    H: float\n",
    "        Entropy estimate\n",
    "    '''\n",
    "\n",
    "\n",
    "    return H"
   ]
  },
  {
   "cell_type": "markdown",
   "metadata": {},
   "source": [
    "## Coverage-adjusted\n",
    "\n",
    "$C = 1 - \\frac{\\# f_{i}=1}{N}$\n",
    "\n",
    "$\\hat{P}_{C}= \\hat{P}\\cdot C$ \n",
    "\n",
    "$H_{CA}= -\\sum_{x}\\frac{\\hat{P_{C}}(x)log(\\hat{P_{C}}(x))}{1-(1-\\hat{P_{C}}(x))^N}$\n",
    "\n"
   ]
  },
  {
   "cell_type": "code",
   "execution_count": 39,
   "metadata": {},
   "outputs": [],
   "source": [
    "def entropy_cae(phat, n):\n",
    "    '''coverage-adjusted estimator of discrete entropy\n",
    "    \n",
    "    Parameters\n",
    "    ----------\n",
    "    \n",
    "    phat: np.array, shape=(n_bins, )\n",
    "        Estimate of the distribution / histogram\n",
    "        \n",
    "    n: int\n",
    "        Number of samples.\n",
    "    \n",
    "    \n",
    "    Return\n",
    "    ------\n",
    "    \n",
    "    H: float\n",
    "        Entropy estimate\n",
    "    '''\n",
    "\n",
    "    # insert your code here (1 pt)\n",
    "    # calulate singletons in phat\n",
    "    unique, counts = np.unique(phat, return_counts=True)\n",
    "    singletons = unique[counts == 1]\n",
    "    \n",
    "    if singletons.size == 0:\n",
    "        singletons = 0\n",
    "    else: \n",
    "        singletons = np.sum(np.ones(singletons.shape)) \n",
    "    C = 1 - (singletons)/n\n",
    "    PC = phat * C\n",
    "    print(PC)\n",
    "    PCs = [p * np.log2(p) if p != 0 else 0 for p in PC]\n",
    "    H = -np.sum(PCs / (1 - ((1 - PC) ** n)))    \n",
    "    return H"
   ]
  },
  {
   "cell_type": "markdown",
   "metadata": {},
   "source": [
    "# JVHW"
   ]
  },
  {
   "cell_type": "code",
   "execution_count": 7,
   "metadata": {},
   "outputs": [],
   "source": [
    "import est_entro as ee\n",
    "\n",
    "def entropy_jvhw(x):\n",
    "    '''JVHW estimator of discrete entropy.\n",
    "        \n",
    "    Parameter\n",
    "    ---------\n",
    "    x: np.array, shape=(n_samples, )\n",
    "        Samples\n",
    "        \n",
    "    Return\n",
    "    ------\n",
    "    H: float\n",
    "        Entropy estimate\n",
    "    '''\n",
    "\n",
    "    # insert your code here (1 pt)\n",
    "    H = ee.est_entro_JVHW(x)\n",
    "    \n",
    "    return H"
   ]
  },
  {
   "cell_type": "markdown",
   "metadata": {},
   "source": [
    "# Optional: Unseen or Best Upper Bounds estimator"
   ]
  },
  {
   "cell_type": "code",
   "execution_count": 8,
   "metadata": {},
   "outputs": [],
   "source": [
    "# insert your code here \n",
    "\n",
    "# ------------------------------------------\n",
    "# Port Unseen or Best Upper Bounds estimator\n",
    "# from MatLab to Python. (3 bonus pts)\n",
    "# ------------------------------------------\n"
   ]
  },
  {
   "cell_type": "markdown",
   "metadata": {},
   "source": [
    "### Uniform distribution"
   ]
  },
  {
   "cell_type": "code",
   "execution_count": 34,
   "metadata": {},
   "outputs": [
    {
     "name": "stdout",
     "output_type": "stream",
     "text": [
      "[0.00097656 0.00097656 0.00097656 ... 0.00097656 0.00097656 0.00097656]\n",
      "10.0\n"
     ]
    }
   ],
   "source": [
    "D = 10\n",
    "N = 2**D\n",
    "\n",
    "p = 1/N * np.ones(N)   # true distribution\n",
    "print(p)\n",
    "\n",
    "H = - np.sum(p * np.log2(p))  # true entropy\n",
    "\n",
    "print(H)"
   ]
  },
  {
   "cell_type": "markdown",
   "metadata": {},
   "source": [
    "Sample from the uniform distribution using sample sizes of 100 and 10000. Plot the true distribution and the sampled distributions. What do you notice? (2 pt)"
   ]
  },
  {
   "cell_type": "code",
   "execution_count": 38,
   "metadata": {},
   "outputs": [
    {
     "data": {
      "text/plain": [
       "<matplotlib.legend.Legend at 0x1544f7810>"
      ]
     },
     "execution_count": 38,
     "metadata": {},
     "output_type": "execute_result"
    },
    {
     "data": {
      "image/png": "[encoded data removed]",
      "text/plain": [
       "<Figure size 800x400 with 1 Axes>"
      ]
     },
     "metadata": {},
     "output_type": "display_data"
    }
   ],
   "source": [
    "# insert your code here \n",
    "\n",
    "# ------------------------------------\n",
    "# Sample from the uniform distribution\n",
    "# using sample size of 100 (0.5 pts)\n",
    "# ------------------------------------\n",
    "uniform_samples = np.random.uniform(low=0, high=D ,size=100)\n",
    "#uniform_samples = np.random.randint(low=0, high=D ,size=100)    \n",
    "\n",
    "# ------------------------------------\n",
    "# Sample from the uniform distribution\n",
    "# using sample size of 10000 (0.5 pts)\n",
    "# ------------------------------------\n",
    "uniform_samples_2 = np.random.uniform(low=0, high=D ,size=10000)\n",
    "#uniform_samples_2 = np.random.randint(low=0, high=D ,size=10000)\n",
    "\n",
    "# ------------------------------------\n",
    "# Plot the true distribution and \n",
    "# the sampled distributions. (0.5 pts)\n",
    "# ------------------------------------\n",
    "\n",
    "fig, ax = plt.subplots(1, 1, figsize=(8, 4))\n",
    "# plot the true distribution\n",
    "\n",
    "# plot the sampled distribution\n",
    "ax.plot(np.histogram(uniform_samples, bins=N)[0] / 100, 'r', label='sampled distribution 100')\n",
    "ax.plot(np.histogram(uniform_samples_2, bins=N)[0] / 10000, 'b', label='sampled distribution 10000')\n",
    "ax.plot(p, 'k', label='true distribution')\n",
    "\n",
    "ax.set_xlabel('bins')\n",
    "ax.set_ylabel('probability')\n",
    "ax.legend(loc='best')\n",
    "\n",
    "# we noticed that the sampled distribution is not as smooth as the true distribution because the sample size is not large enough, \n",
    "# but if you would to enlarge the sample size, the sampled distribution will be more smooth and close to the true distribution.\n",
    "\n"
   ]
  },
  {
   "cell_type": "markdown",
   "metadata": {},
   "source": [
    "Use the framework below to generate samples of different size (logarithmically spaced between 10 and 100000) and evaluate the different entropy estimators for multiple runs."
   ]
  },
  {
   "cell_type": "code",
   "execution_count": 40,
   "metadata": {},
   "outputs": [
    {
     "name": "stdout",
     "output_type": "stream",
     "text": [
      "edges: [-5.0000e-01  5.0000e-01  1.5000e+00 ...  1.0215e+03  1.0225e+03\n",
      "  1.0235e+03]\n",
      "[0.1 0.  0.  ... 0.  0.  0.1]\n",
      "[0.1 0.  0.  ... 0.  0.  0.1]\n",
      "[0.1 0.  0.  ... 0.  0.  0.1]\n",
      "[0.1 0.  0.  ... 0.  0.  0.1]\n",
      "[0.1 0.  0.  ... 0.  0.  0.1]\n",
      "[0.1 0.  0.  ... 0.  0.  0.1]\n",
      "[0.1 0.  0.  ... 0.  0.  0.1]\n",
      "[0.1 0.  0.  ... 0.  0.  0.1]\n",
      "[0.1 0.  0.  ... 0.  0.  0.1]\n",
      "[0.1 0.  0.  ... 0.  0.  0.1]\n",
      "[0.1 0.  0.  ... 0.  0.  0.1]\n",
      "[0.1 0.  0.  ... 0.  0.  0.1]\n",
      "[0.1 0.  0.  ... 0.  0.  0.1]\n",
      "[0.1 0.  0.  ... 0.  0.  0.1]\n",
      "[0.1 0.  0.  ... 0.  0.  0.1]\n",
      "[0.1 0.  0.  ... 0.  0.  0.1]\n",
      "[0.1 0.  0.  ... 0.  0.  0.1]\n",
      "[0.1 0.  0.  ... 0.  0.  0.1]\n",
      "[0.1 0.  0.1 ... 0.  0.  0.1]\n",
      "[0.1 0.  0.  ... 0.  0.  0.1]\n",
      "[0.1 0.  0.  ... 0.  0.  0.1]\n",
      "[0.1 0.  0.  ... 0.  0.  0.1]\n",
      "[0.1 0.  0.  ... 0.  0.  0.1]\n",
      "[0.1 0.  0.  ... 0.  0.  0.1]\n",
      "[0.1 0.  0.  ... 0.  0.  0.1]\n",
      "[0.1 0.  0.  ... 0.  0.  0.1]\n",
      "[0.1 0.  0.  ... 0.  0.  0.1]\n",
      "[0.1 0.  0.  ... 0.  0.  0.1]\n",
      "[0.09 0.   0.   ... 0.   0.   0.09]\n",
      "[0.1 0.  0.  ... 0.  0.  0.1]\n",
      "[0.03443878 0.         0.         ... 0.         0.         0.03443878]\n",
      "[0.03443878 0.         0.         ... 0.         0.         0.03443878]\n",
      "[0.03571429 0.         0.         ... 0.         0.         0.03571429]\n",
      "[0.03571429 0.         0.         ... 0.         0.         0.03571429]\n",
      "[0.03571429 0.         0.         ... 0.         0.         0.03571429]\n",
      "[0.03571429 0.         0.         ... 0.         0.         0.03571429]\n",
      "[0.03571429 0.         0.         ... 0.         0.         0.03571429]\n",
      "[0.03571429 0.         0.         ... 0.         0.         0.03571429]\n",
      "[0.03571429 0.         0.         ... 0.         0.         0.03571429]\n",
      "[0.03571429 0.         0.         ... 0.         0.03571429 0.03571429]\n",
      "[0.03443878 0.         0.         ... 0.         0.         0.03443878]\n",
      "[0.03571429 0.         0.         ... 0.         0.         0.03571429]\n",
      "[0.03571429 0.         0.03571429 ... 0.03571429 0.         0.03571429]\n",
      "[0.03571429 0.         0.         ... 0.         0.         0.03571429]\n",
      "[0.03571429 0.         0.03571429 ... 0.         0.         0.03571429]\n",
      "[0.03571429 0.         0.         ... 0.         0.         0.03571429]\n",
      "[0.03571429 0.         0.         ... 0.         0.         0.03571429]\n",
      "[0.06887755 0.         0.         ... 0.         0.         0.03443878]\n",
      "[0.03571429 0.         0.         ... 0.         0.         0.03571429]\n",
      "[0.03443878 0.         0.         ... 0.         0.         0.03443878]\n",
      "[0.03571429 0.         0.         ... 0.         0.         0.03571429]\n",
      "[0.03443878 0.         0.         ... 0.         0.         0.03443878]\n",
      "[0.03571429 0.         0.         ... 0.         0.         0.03571429]\n",
      "[0.03443878 0.         0.         ... 0.         0.         0.03443878]\n",
      "[0.03443878 0.         0.         ... 0.         0.         0.03443878]\n",
      "[0.03571429 0.         0.         ... 0.         0.         0.03571429]\n",
      "[0.03571429 0.         0.         ... 0.         0.         0.03571429]\n",
      "[0.03571429 0.         0.         ... 0.         0.         0.03571429]\n",
      "[0.03443878 0.         0.         ... 0.         0.03443878 0.03443878]\n",
      "[0.03571429 0.         0.         ... 0.         0.         0.03571429]\n",
      "[0.01298701 0.         0.         ... 0.         0.         0.01298701]\n",
      "[0.01298701 0.         0.         ... 0.         0.         0.02597403]\n",
      "[0.01298701 0.         0.         ... 0.         0.         0.01298701]\n",
      "[0.01298701 0.         0.         ... 0.         0.         0.01298701]\n",
      "[0.01281835 0.         0.         ... 0.03845505 0.         0.01281835]\n",
      "[0.01298701 0.         0.         ... 0.         0.         0.01298701]\n",
      "[0.01281835 0.         0.         ... 0.         0.         0.01281835]\n",
      "[0.01281835 0.         0.         ... 0.         0.         0.01281835]\n",
      "[0.01298701 0.         0.         ... 0.         0.         0.01298701]\n",
      "[0.01298701 0.         0.         ... 0.         0.         0.01298701]\n",
      "[0.01298701 0.         0.         ... 0.         0.         0.01298701]\n",
      "[0.01298701 0.         0.         ... 0.         0.         0.01298701]\n",
      "[0.01281835 0.01281835 0.         ... 0.01281835 0.         0.01281835]\n",
      "[0.01298701 0.         0.         ... 0.         0.         0.01298701]\n",
      "[0.01298701 0.         0.         ... 0.         0.         0.01298701]\n",
      "[0.01298701 0.         0.         ... 0.01298701 0.         0.01298701]\n",
      "[0.01298701 0.         0.         ... 0.         0.01298701 0.01298701]\n",
      "[0.01281835 0.         0.         ... 0.01281835 0.         0.01281835]\n",
      "[0.01298701 0.         0.         ... 0.         0.         0.01298701]\n",
      "[0.01298701 0.         0.         ... 0.         0.         0.01298701]\n",
      "[0.01281835 0.         0.         ... 0.         0.         0.01281835]\n",
      "[0.02597403 0.         0.         ... 0.01298701 0.         0.01298701]\n",
      "[0.01298701 0.         0.         ... 0.         0.         0.01298701]\n",
      "[0.01298701 0.         0.         ... 0.         0.         0.01298701]\n",
      "[0.01298701 0.         0.         ... 0.         0.         0.01298701]\n",
      "[0.01298701 0.         0.01298701 ... 0.         0.         0.02597403]\n",
      "[0.01298701 0.         0.         ... 0.         0.         0.01298701]\n",
      "[0.01298701 0.         0.         ... 0.         0.         0.01298701]\n",
      "[0.01281835 0.         0.         ... 0.         0.         0.01281835]\n",
      "[0.01281835 0.         0.         ... 0.         0.         0.01281835]\n",
      "[0.00465116 0.00465116 0.         ... 0.         0.         0.00465116]\n",
      "[0.00462953 0.         0.         ... 0.         0.         0.00462953]\n",
      "[0.00465116 0.         0.         ... 0.         0.         0.00465116]\n",
      "[0.00462953 0.         0.         ... 0.         0.         0.00925906]\n",
      "[0.00462953 0.         0.         ... 0.         0.         0.00462953]\n",
      "[0.00462953 0.         0.         ... 0.         0.         0.00462953]\n",
      "[0.00462953 0.00462953 0.         ... 0.         0.         0.00462953]\n",
      "[0.00930233 0.         0.00930233 ... 0.         0.00465116 0.00930233]\n",
      "[0.00465116 0.         0.00465116 ... 0.         0.00930233 0.00465116]\n",
      "[0.00465116 0.         0.         ... 0.         0.         0.00465116]\n",
      "[0.00465116 0.         0.00465116 ... 0.00465116 0.         0.00930233]\n",
      "[0.00462953 0.00462953 0.         ... 0.         0.         0.00462953]\n",
      "[0.00462953 0.         0.         ... 0.         0.         0.00462953]\n",
      "[0.00465116 0.00465116 0.         ... 0.         0.         0.00465116]\n",
      "[0.00925906 0.         0.         ... 0.         0.00462953 0.00925906]\n",
      "[0.00465116 0.00465116 0.         ... 0.         0.         0.00465116]\n",
      "[0.00462953 0.         0.00462953 ... 0.         0.         0.00462953]\n",
      "[0.00462953 0.         0.         ... 0.         0.         0.00462953]\n",
      "[0.00465116 0.         0.         ... 0.         0.         0.00465116]\n",
      "[0.00930233 0.         0.00465116 ... 0.         0.         0.00465116]\n",
      "[0.00465116 0.         0.         ... 0.         0.00465116 0.00465116]\n",
      "[0.00465116 0.         0.00465116 ... 0.         0.00465116 0.00930233]\n",
      "[0.00465116 0.         0.         ... 0.         0.         0.00930233]\n",
      "[0.00465116 0.         0.         ... 0.         0.00465116 0.00465116]\n",
      "[0.00462953 0.         0.         ... 0.00462953 0.         0.00462953]\n",
      "[0.00465116 0.         0.00465116 ... 0.         0.         0.00465116]\n",
      "[0.00462953 0.         0.         ... 0.         0.00462953 0.00462953]\n",
      "[0.00465116 0.00465116 0.00465116 ... 0.         0.         0.00465116]\n",
      "[0.00462953 0.         0.00462953 ... 0.00462953 0.         0.00925906]\n",
      "[0.00462953 0.         0.00462953 ... 0.         0.00462953 0.00462953]\n",
      "[0.00166945 0.         0.         ... 0.0033389  0.         0.00500835]\n",
      "[0.00166945 0.         0.00166945 ... 0.         0.00166945 0.0033389 ]\n",
      "[0.00166945 0.         0.         ... 0.00166945 0.         0.00166945]\n",
      "[0.00166945 0.00166945 0.         ... 0.         0.00166945 0.00166945]\n",
      "[0.00166666 0.00166666 0.00166666 ... 0.00499999 0.         0.00333332]\n",
      "[0.00166945 0.00166945 0.00166945 ... 0.00166945 0.00166945 0.00166945]\n",
      "[0.00166945 0.0033389  0.00166945 ... 0.         0.0033389  0.0033389 ]\n",
      "[0.0033389  0.00166945 0.         ... 0.00166945 0.00166945 0.00500835]\n",
      "[0.0033389  0.         0.0033389  ... 0.         0.00166945 0.0033389 ]\n",
      "[0.0033389  0.         0.0033389  ... 0.00500835 0.         0.0066778 ]\n",
      "[0.0033389  0.         0.         ... 0.0033389  0.00166945 0.00166945]\n",
      "[0.00166945 0.00166945 0.         ... 0.00166945 0.         0.00166945]\n",
      "[0.00166945 0.         0.         ... 0.         0.00166945 0.00166945]\n",
      "[0.0033389  0.00166945 0.         ... 0.         0.00166945 0.00166945]\n",
      "[0.00166945 0.         0.00166945 ... 0.         0.         0.0033389 ]\n",
      "[0.00333332 0.00166666 0.         ... 0.         0.         0.00499999]\n",
      "[0.00166666 0.         0.00166666 ... 0.00166666 0.         0.00333332]\n",
      "[0.00166387 0.00166387 0.00166387 ... 0.00166387 0.         0.00166387]\n",
      "[0.00166945 0.00166945 0.         ... 0.         0.00166945 0.00166945]\n",
      "[0.0033389  0.00166945 0.         ... 0.00166945 0.         0.0033389 ]\n",
      "[0.0033389  0.         0.         ... 0.00166945 0.         0.00166945]\n",
      "[0.00166666 0.         0.         ... 0.         0.         0.00166666]\n",
      "[0.00499999 0.         0.00333332 ... 0.         0.         0.00166666]\n",
      "[0.0033389  0.00166945 0.         ... 0.         0.         0.00166945]\n",
      "[0.0033389  0.         0.         ... 0.00166945 0.         0.00166945]\n",
      "[0.00332775 0.         0.         ... 0.00166387 0.         0.00332775]\n",
      "[0.00333332 0.00166666 0.         ... 0.00499999 0.         0.00166666]\n",
      "[0.00166945 0.         0.00166945 ... 0.         0.00500835 0.00166945]\n",
      "[0.00166945 0.00166945 0.00166945 ... 0.         0.00166945 0.0033389 ]\n",
      "[0.00166666 0.         0.         ... 0.         0.         0.00166666]\n",
      "[0.00119832 0.00119832 0.00179748 ... 0.0029958  0.00119832 0.00479329]\n",
      "[0.00059952 0.00119904 0.00119904 ... 0.00179856 0.0029976  0.00059952]\n",
      "[0.00359497 0.00059916 0.00119832 ... 0.         0.00119832 0.0029958 ]\n",
      "[0.00179856 0.00059952 0.00119904 ... 0.00119904 0.00119904 0.00239808]\n",
      "[0.00059916 0.00059916 0.00059916 ... 0.00239664 0.         0.00119832]\n",
      "[0.00179748 0.00179748 0.0029958  ... 0.         0.00059916 0.00119832]\n",
      "[0.0017964 0.0011976 0.0017964 ... 0.        0.0005988 0.0011976]\n",
      "[0.00119832 0.00119832 0.00059916 ... 0.00179748 0.00179748 0.00119832]\n",
      "[0.00119904 0.         0.00059952 ... 0.00119904 0.00179856 0.00059952]\n",
      "[0.00239808 0.00059952 0.00179856 ... 0.00059952 0.00119904 0.00239808]\n",
      "[0.00059952 0.00059952 0.00239808 ... 0.00059952 0.00059952 0.00179856]\n",
      "[0.00179748 0.00119832 0.00119832 ... 0.00119832 0.00119832 0.00119832]\n",
      "[0.00119904 0.00119904 0.00059952 ... 0.00119904 0.00059952 0.00179856]\n",
      "[0.00239664 0.00059916 0.         ... 0.00359497 0.00059916 0.00059916]\n",
      "[0.0017964 0.0017964 0.0011976 ... 0.0011976 0.0017964 0.0005988]\n",
      "[0.00179856 0.00239808 0.00059952 ... 0.00059952 0.00059952 0.00119904]\n",
      "[0.00119832 0.00059916 0.00119832 ... 0.00119832 0.00059916 0.00059916]\n",
      "[0.00119832 0.00119832 0.00179748 ... 0.         0.00179748 0.00059916]\n",
      "[0.00179856 0.00179856 0.         ... 0.00179856 0.00179856 0.00119904]\n",
      "[0.0011976 0.0011976 0.        ... 0.0005988 0.0005988 0.0011976]\n",
      "[0.00119904 0.00119904 0.         ... 0.00119904 0.00119904 0.00239808]\n",
      "[0.00059952 0.00179856 0.00119904 ... 0.00059952 0.         0.00059952]\n",
      "[0.00119904 0.00059952 0.00179856 ... 0.00119904 0.         0.00119904]\n",
      "[0.00119832 0.00059916 0.00419413 ... 0.00179748 0.00179748 0.0029958 ]\n",
      "[0.00119832 0.00179748 0.         ... 0.00179748 0.         0.00059916]\n",
      "[0.0011976 0.0011976 0.        ... 0.0005988 0.        0.0017964]\n",
      "[0.00179533 0.00119688 0.00179533 ... 0.00119688 0.00119688 0.00119688]\n",
      "[0.00179856 0.00059952 0.00239808 ... 0.00059952 0.         0.00119904]\n",
      "[0.00239664 0.00359497 0.00119832 ... 0.00119832 0.00179748 0.00119832]\n",
      "[0.00179856 0.00119904 0.00179856 ... 0.         0.00059952 0.00179856]\n",
      "[0.00043066 0.00043066 0.00064599 ... 0.00172265 0.00172265 0.00086133]\n",
      "[0.00086114 0.00193757 0.00129171 ... 0.00129171 0.00086114 0.00064586]\n",
      "[0.0008617  0.00129255 0.0008617  ... 0.00064627 0.0008617  0.00193882]\n",
      "[0.00129227 0.00150765 0.00064613 ... 0.00172302 0.00129227 0.00150765]\n",
      "[0.00107689 0.00064613 0.00043076 ... 0.00064613 0.00172302 0.00107689]\n",
      "[0.00129227 0.00086151 0.00107689 ... 0.00107689 0.00129227 0.00172302]\n",
      "[0.00129227 0.00107689 0.00107689 ... 0.00086151 0.00129227 0.00064613]\n",
      "[0.00129255 0.0008617  0.00064627 ... 0.00150797 0.00107712 0.00150797]\n",
      "[0.00172265 0.00107666 0.00086133 ... 0.00086133 0.00150732 0.00086133]\n",
      "[0.00107689 0.00043076 0.00107689 ... 0.00107689 0.00107689 0.00129227]\n",
      "[0.00107689 0.00086151 0.00150765 ... 0.00172302 0.00021538 0.00043076]\n",
      "[0.00150765 0.00043076 0.00086151 ... 0.00150765 0.00064613 0.00086151]\n",
      "[0.00215332 0.00129199 0.00064599 ... 0.00129199 0.00086133 0.00129199]\n",
      "[0.00129227 0.00043076 0.00021538 ... 0.00129227 0.0019384  0.00150765]\n",
      "[0.00172302 0.00129227 0.00064613 ... 0.00086151 0.00150765 0.00107689]\n",
      "[0.00129227 0.00021538 0.00107689 ... 0.00129227 0.00107689 0.00150765]\n",
      "[0.00043085 0.00193882 0.0008617  ... 0.00043085 0.00064627 0.00129255]\n",
      "[0.00107712 0.00107712 0.00150797 ... 0.00021542 0.00107712 0.00129255]\n",
      "[0.00129255 0.00107712 0.00107712 ... 0.00043085 0.00129255 0.0008617 ]\n",
      "[0.0008617  0.00021542 0.00129255 ... 0.00129255 0.00107712 0.00280052]\n",
      "[0.00129199 0.00086133 0.00172265 ... 0.00043066 0.00086133 0.00129199]\n",
      "[0.00064599 0.00107666 0.00150732 ... 0.00107666 0.00086133 0.00064599]\n",
      "[0.00107712 0.0008617  0.00129255 ... 0.00150797 0.0008617  0.00129255]\n",
      "[0.00086151 0.00129227 0.00150765 ... 0.00129227 0.00086151 0.00021538]\n",
      "[0.00086151 0.00043076 0.00107689 ... 0.00172302 0.00129227 0.00064613]\n",
      "[0.00150765 0.0019384  0.00107689 ... 0.00043076 0.00043076 0.00129227]\n",
      "[0.00150765 0.00172302 0.00150765 ... 0.00107689 0.00043076 0.00043076]\n",
      "[0.00150797 0.00064627 0.0008617  ... 0.0008617  0.00129255 0.00129255]\n",
      "[0.00107643 0.00021529 0.00043057 ... 0.         0.00064586 0.00043057]\n",
      "[0.00086133 0.00172265 0.00172265 ... 0.00086133 0.00064599 0.00107666]\n",
      "[0.00123887 0.00092915 0.00092915 ... 0.00085172 0.00116144 0.00116144]\n",
      "[0.00085172 0.00092915 0.00123887 ... 0.00054201 0.00162602 0.0013163 ]\n",
      "[0.00061934 0.00116126 0.00162576 ... 0.00077417 0.00147093 0.00077417]\n",
      "[0.00092894 0.00131599 0.00085152 ... 0.0006967  0.0013934  0.00116117]\n",
      "[0.00123877 0.00116135 0.00123877 ... 0.00116135 0.00116135 0.00178074]\n",
      "[0.00123887 0.00077429 0.00092915 ... 0.00123887 0.00123887 0.0013163 ]\n",
      "[0.00108393 0.00108393 0.00085166 ... 0.00077423 0.00061939 0.0013162 ]\n",
      "[0.00108376 0.00108376 0.00100635 ... 0.00077411 0.0013934  0.00092894]\n",
      "[0.00108393 0.00092908 0.00061939 ... 0.00108393 0.00038712 0.00069681]\n",
      "[0.00123858 0.00092894 0.00077411 ... 0.00108376 0.00147082 0.00131599]\n",
      "[0.00077423 0.00147104 0.00061939 ... 0.00077423 0.00054196 0.00092908]\n",
      "[0.00108393 0.00116135 0.00061939 ... 0.00077423 0.00085166 0.00069681]\n",
      "[0.00108384 0.00077417 0.00092901 ... 0.00108384 0.00085159 0.0004645 ]\n",
      "[0.00154847 0.00116135 0.00123877 ... 0.0013162  0.0010065  0.00108393]\n",
      "[0.0013933  0.00092886 0.00131589 ... 0.00100627 0.00069665 0.00108368]\n",
      "[0.00116135 0.00108393 0.00069681 ... 0.00061939 0.00139362 0.00061939]\n",
      "[0.00162564 0.00092894 0.0013934  ... 0.00100635 0.00131599 0.00123858]\n",
      "[0.00139351 0.00085159 0.00100643 ... 0.00077417 0.00123868 0.0013161 ]\n",
      "[0.0013934  0.00092894 0.00077411 ... 0.0006967  0.00092894 0.00116117]\n",
      "[0.00116135 0.00061939 0.00085166 ... 0.00085166 0.00069681 0.0013162 ]\n",
      "[0.00116108 0.00116108 0.00116108 ... 0.00069665 0.00170292 0.00085146]\n",
      "[0.00116126 0.00077417 0.00123868 ... 0.00077417 0.00139351 0.00061934]\n",
      "[0.00077423 0.00085166 0.0010065  ... 0.0010065  0.00061939 0.00116135]\n",
      "[0.00077423 0.00061939 0.00123877 ... 0.0010065  0.0010065  0.00123877]\n",
      "[0.00108384 0.00069676 0.00077417 ... 0.00154835 0.00085159 0.00123868]\n",
      "[0.00116126 0.00116126 0.00069676 ... 0.00108384 0.00085159 0.00193543]\n",
      "[0.00085166 0.00108393 0.00108393 ... 0.00147104 0.00061939 0.00108393]\n",
      "[0.00085159 0.00069676 0.00085159 ... 0.00100643 0.00108384 0.00108384]\n",
      "[0.00092901 0.00123868 0.00139351 ... 0.00147093 0.00123868 0.00069676]\n",
      "[0.0013933  0.00108368 0.00085146 ... 0.00092886 0.00116108 0.00162551]\n",
      "[0.00086252 0.00069558 0.00102946 ... 0.00125205 0.00100164 0.00102946]\n",
      "[0.00075125 0.00100167 0.00114079 ... 0.00097385 0.00094602 0.00116861]\n",
      "[0.0008625  0.00108508 0.00089032 ... 0.00077903 0.00100161 0.0008625 ]\n",
      "[0.0006678  0.00094605 0.0008904  ... 0.00108517 0.00083475 0.0008904 ]\n",
      "[0.00102949 0.00083472 0.00133556 ... 0.0009182  0.00086255 0.00086255]\n",
      "[0.00111287 0.00100159 0.00077901 ... 0.00097376 0.00083465 0.00102941]\n",
      "[0.0007791  0.00094605 0.0010017  ... 0.00086257 0.00102952 0.00130777]\n",
      "[0.00100161 0.00097379 0.00091815 ... 0.00089032 0.00136331 0.00080686]\n",
      "[0.00086255 0.0008069  0.00075125 ... 0.00111297 0.00055648 0.00119644]\n",
      "[0.00119637 0.00102944 0.00091815 ... 0.00127984 0.00097379 0.0011129 ]\n",
      "[0.00116855 0.00089032 0.00091815 ... 0.00083468 0.00102944 0.00119637]\n",
      "[0.00097379 0.00091815 0.00116855 ... 0.00130766 0.0011129  0.00080686]\n",
      "[0.00125202 0.00080686 0.00083468 ... 0.00083468 0.00080686 0.00100161]\n",
      "[0.00097374 0.00094592 0.00091809 ... 0.00102938 0.00086245 0.00122413]\n",
      "[0.00097387 0.00108517 0.00108517 ... 0.0008904  0.0008904  0.00072345]\n",
      "[0.00091812 0.00080683 0.00119634 ... 0.00102941 0.00097376 0.00097376]\n",
      "[0.00080683 0.00105723 0.00086248 ... 0.00097376 0.00083465 0.00102941]\n",
      "[0.00086252 0.00133552 0.00105729 ... 0.00114076 0.00105729 0.00116858]\n"
     ]
    },
    {
     "name": "stderr",
     "output_type": "stream",
     "text": [
      "/var/folders/6f/4s63gb612m185fbsprljhfmh0000gn/T/ipykernel_1377/2487271859.py:33: RuntimeWarning: divide by zero encountered in log2\n",
      "  PCs = np.where(PC != 0, PC * np.log2(PC), 0)\n",
      "/var/folders/6f/4s63gb612m185fbsprljhfmh0000gn/T/ipykernel_1377/2487271859.py:33: RuntimeWarning: invalid value encountered in multiply\n",
      "  PCs = np.where(PC != 0, PC * np.log2(PC), 0)\n",
      "/var/folders/6f/4s63gb612m185fbsprljhfmh0000gn/T/ipykernel_1377/2487271859.py:34: RuntimeWarning: invalid value encountered in divide\n",
      "  H = -np.sum(PCs / (1 - ((1 - PC) ** n)))\n"
     ]
    },
    {
     "name": "stdout",
     "output_type": "stream",
     "text": [
      "[0.00094589 0.00102935 0.00100153 ... 0.00111281 0.00114063 0.00116845]\n",
      "[0.00114076 0.00127988 0.00072341 ... 0.00080688 0.00094599 0.00063994]\n",
      "[0.00100153 0.00089025 0.00100153 ... 0.00083461 0.00102935 0.00089025]\n",
      "[0.00097376 0.00083465 0.00094594 ... 0.00100159 0.00077901 0.00105723]\n",
      "[0.00097379 0.00108508 0.00094597 ... 0.00080686 0.00105726 0.00130766]\n",
      "[0.00122409 0.00080679 0.00105717 ... 0.00086243 0.00091807 0.00091807]\n",
      "[0.00108511 0.0008347  0.00122423 ... 0.00097382 0.00091817 0.00075123]\n",
      "[0.0008347  0.00119641 0.00097382 ... 0.00102946 0.00125205 0.00091817]\n",
      "[0.00127977 0.00091809 0.00108502 ... 0.00116848 0.00119631 0.00083463]\n",
      "[0.0011129  0.00094597 0.00089032 ... 0.00102944 0.00075121 0.00125202]\n",
      "[0.00089027 0.00075117 0.00083463 ... 0.00091809 0.00075117 0.00089027]\n",
      "[0.0011129  0.00097379 0.00094597 ... 0.00091815 0.00094597 0.00102944]\n",
      "[0.00091994 0.00096993 0.00092993 ... 0.00104993 0.00089994 0.00083994]\n",
      "[0.00102993 0.00097993 0.00093993 ... 0.00076995 0.00095993 0.00092993]\n",
      "[0.00109991 0.00112991 0.00097992 ... 0.00100992 0.00096992 0.00085993]\n",
      "[0.00086994 0.00088994 0.00108992 ... 0.00102993 0.00113992 0.00109992]\n",
      "[0.00102991 0.0011099  0.00098991 ... 0.00104991 0.00091992 0.00100991]\n",
      "[0.00107995 0.00106995 0.00092995 ... 0.00093995 0.00103995 0.00095995]\n",
      "[0.00115994 0.00099995 0.00084996 ... 0.00100995 0.00085996 0.00101995]\n",
      "[0.00092995 0.00097995 0.00092995 ... 0.00111994 0.00113994 0.00105995]\n",
      "[0.00102987 0.00111985 0.00103986 ... 0.00102987 0.00088988 0.00102987]\n",
      "[0.00104993 0.00105993 0.00092993 ... 0.00099993 0.00096993 0.00081994]\n",
      "[0.00086995 0.00104994 0.00095994 ... 0.00091994 0.00116993 0.00114993]\n",
      "[0.00098997 0.00095997 0.00082998 ... 0.00112997 0.00095997 0.00097997]\n",
      "[0.0010299  0.0009599  0.0010299  ... 0.0009699  0.00093991 0.0009699 ]\n",
      "[0.00080997 0.00102996 0.00088996 ... 0.00116995 0.00080997 0.00073997]\n",
      "[0.00126991 0.00104993 0.00081994 ... 0.00092993 0.00090994 0.00095993]\n",
      "[0.00083995 0.00102994 0.00097994 ... 0.00107994 0.00086995 0.00085995]\n",
      "[0.00113991 0.00103992 0.00114991 ... 0.00085993 0.00099992 0.00099992]\n",
      "[0.00105993 0.00111992 0.00084994 ... 0.00104993 0.00098993 0.00104993]\n",
      "[0.00099991 0.00102991 0.0010799  ... 0.00079993 0.00082993 0.00095991]\n",
      "[0.00088992 0.00090992 0.0010799  ... 0.00087992 0.00094991 0.00091992]\n",
      "[0.00082993 0.00100991 0.0010599  ... 0.00090992 0.00094991 0.00096991]\n",
      "[0.00092993 0.00112991 0.00115991 ... 0.00098992 0.00092993 0.00115991]\n",
      "[0.00104994 0.00102994 0.00084995 ... 0.00091994 0.00090995 0.00105994]\n",
      "[0.0011399  0.00103991 0.00096991 ... 0.00095991 0.00084992 0.00104991]\n",
      "[0.00097996 0.00088996 0.00081997 ... 0.00097996 0.00084997 0.00098996]\n",
      "[0.00082999 0.00096999 0.00103999 ... 0.00094999 0.00092999 0.00097999]\n",
      "[0.0009099  0.00083991 0.00116987 ... 0.00107988 0.0009299  0.00100989]\n",
      "[0.00105992 0.00109991 0.00093992 ... 0.00098992 0.00088993 0.00105992]\n",
      "[0.00100991 0.00090992 0.00096991 ... 0.0010699  0.00092992 0.00087992]\n",
      "[0.00102997 0.00106997 0.00097997 ... 0.00095997 0.00098997 0.00091997]\n"
     ]
    }
   ],
   "source": [
    "sample_sizes = np.round(np.logspace(1,5,num=10))\n",
    "n_runs = 30\n",
    "\n",
    "edges = np.arange(-0.5, N, 1) \n",
    "# dont use scientific notation\n",
    "print(f\"edges: {edges}\")\n",
    "\n",
    "h_mle  = np.zeros((len(sample_sizes), n_runs))\n",
    "h_mm   = np.zeros((len(sample_sizes), n_runs))\n",
    "h_jk   = np.zeros((len(sample_sizes), n_runs))\n",
    "h_cae  = np.zeros((len(sample_sizes), n_runs))\n",
    "h_jvhw = np.zeros((len(sample_sizes), n_runs))\n",
    "\n",
    "# add h_unseen or h_bub here if you implemented them.\n",
    "\n",
    "for i, S in enumerate(sample_sizes):\n",
    "    for j in np.arange(n_runs):\n",
    "        \n",
    "        # ------------------------------------\n",
    "        # Sample from the uniform distribution\n",
    "        # with different sample size (0.5 pts)\n",
    "        # ------------------------------------  \n",
    "        x = np.random.uniform(low=0, high=D, size=int(S))\n",
    "        phat = np.histogram(x, bins=N)[0] / S\n",
    "        # insert your code here  \n",
    "        h_mle[i,j]  = entropy_mle(phat)\n",
    "        h_mm[i,j]   = entropy_mm(phat, S)\n",
    "        h_cae[i,j]  = entropy_cae(phat, S)\n",
    "        h_jk[i,j]   = entropy_jk(x, edges)\n",
    "        #h_jvhw[i,j] = entropy_jvhw(int(x))"
   ]
  },
  {
   "cell_type": "markdown",
   "metadata": {},
   "source": [
    "Plot the resulting average estimate of the entropy for each of the estimators. Which is best? If you implemented everything correctly, this plot should roughly look like in the lecture."
   ]
  },
  {
   "cell_type": "code",
   "execution_count": 29,
   "metadata": {},
   "outputs": [
    {
     "data": {
      "text/plain": [
       "<matplotlib.legend.Legend at 0x153e4c2d0>"
      ]
     },
     "execution_count": 29,
     "metadata": {},
     "output_type": "execute_result"
    },
    {
     "data": {
      "image/png": "[encoded data removed]",
      "text/plain": [
       "<Figure size 640x480 with 1 Axes>"
      ]
     },
     "metadata": {},
     "output_type": "display_data"
    }
   ],
   "source": [
    "plt.figure()\n",
    "plt.semilogx(sample_sizes, np.mean(h_mle,  axis=1), label='mle')\n",
    "plt.semilogx(sample_sizes, np.mean(h_mm,   axis=1), label='mm')\n",
    "plt.semilogx(sample_sizes, np.mean(h_cae,  axis=1), label='cae')\n",
    "plt.semilogx(sample_sizes, np.mean(h_jk,   axis=1), label='jk')\n",
    "plt.semilogx(sample_sizes, np.mean(h_jvhw, axis=1), label='jvhw')\n",
    "\n",
    "# plot h_unseen or h_bub here if you implemented them.\n",
    "\n",
    "plt.axhline(H, color='black', linestyle=':')\n",
    "plt.legend()\n"
   ]
  },
  {
   "cell_type": "markdown",
   "metadata": {},
   "source": [
    "### Zipf distribution\n",
    "\n",
    "[Zipf's law ](https://en.wikipedia.org/wiki/Zipf%27s_law) refers to a family of power law like distributions for which $p_k \\sim 1/k^d$. We will simply use $d=1$ here.   \n",
    "\n",
    "Adapt the framework above to sample from a Zipf distribution and evaluate the estimators for this case. Are there differences to the uniform case? (2 pts)"
   ]
  },
  {
   "cell_type": "code",
   "execution_count": 12,
   "metadata": {},
   "outputs": [
    {
     "name": "stdout",
     "output_type": "stream",
     "text": [
      "7.510649703297878\n"
     ]
    }
   ],
   "source": [
    "D = 10\n",
    "N = 2**D\n",
    "\n",
    "p = 1/(np.arange(0,N)+1)    # true distribution\n",
    "p = p/np.sum(p)\n",
    "\n",
    "H = - np.sum(p * np.log2(p))  # true entropy\n",
    "\n",
    "print(H)"
   ]
  },
  {
   "cell_type": "markdown",
   "metadata": {},
   "source": [
    "Sample from the Zipf distribution using sample sizes of 100 and 10000. In this case, the function `random.choice` is very helpful for sampling. Plot the true distribution and the sampled distributions. What do you notice? "
   ]
  },
  {
   "cell_type": "code",
   "execution_count": 13,
   "metadata": {},
   "outputs": [],
   "source": [
    "# insert your code here \n",
    "\n",
    "# ---------------------------------------\n",
    "# Sample from the Zipf distribution\n",
    "# using sample size of 100 (0.5 pts)\n",
    "# ---------------------------------------\n",
    "\n",
    "\n",
    "# ---------------------------------------\n",
    "# Sample from the Zipf distribution\n",
    "# using sample size of 10000 (0.5 pts)\n",
    "# ---------------------------------------\n",
    "\n",
    "\n",
    "# ---------------------------------------\n",
    "# Plot the true distribution and the sampled\n",
    "# distributions. (0.5 pts)\n",
    "# ---------------------------------------\n",
    "\n"
   ]
  },
  {
   "cell_type": "markdown",
   "metadata": {},
   "source": [
    "Use the framework below to generate samples of different size (logarithmically spaced between 10 and 100000) and evaluate the different entropy estimators for multiple runs."
   ]
  },
  {
   "cell_type": "code",
   "execution_count": 14,
   "metadata": {},
   "outputs": [
    {
     "ename": "FileNotFoundError",
     "evalue": "[Errno 2] No such file or directory: 'poly_coeff_entro.mat'",
     "output_type": "error",
     "traceback": [
      "\u001b[0;31m---------------------------------------------------------------------------\u001b[0m",
      "\u001b[0;31mFileNotFoundError\u001b[0m                         Traceback (most recent call last)",
      "File \u001b[0;32m/opt/homebrew/lib/python3.11/site-packages/scipy/io/matlab/_mio.py:39\u001b[0m, in \u001b[0;36m_open_file\u001b[0;34m(file_like, appendmat, mode)\u001b[0m\n\u001b[1;32m     38\u001b[0m \u001b[39mtry\u001b[39;00m:\n\u001b[0;32m---> 39\u001b[0m     \u001b[39mreturn\u001b[39;00m \u001b[39mopen\u001b[39;49m(file_like, mode), \u001b[39mTrue\u001b[39;00m\n\u001b[1;32m     40\u001b[0m \u001b[39mexcept\u001b[39;00m \u001b[39mOSError\u001b[39;00m \u001b[39mas\u001b[39;00m e:\n\u001b[1;32m     41\u001b[0m     \u001b[39m# Probably \"not found\"\u001b[39;00m\n",
      "\u001b[0;31mFileNotFoundError\u001b[0m: [Errno 2] No such file or directory: 'poly_coeff_entro.mat'",
      "\nDuring handling of the above exception, another exception occurred:\n",
      "\u001b[0;31mFileNotFoundError\u001b[0m                         Traceback (most recent call last)",
      "Cell \u001b[0;32mIn[14], line 28\u001b[0m\n\u001b[1;32m     26\u001b[0m h_cae[i,j]  \u001b[39m=\u001b[39m entropy_cae(phat, S)\n\u001b[1;32m     27\u001b[0m h_jk[i,j]   \u001b[39m=\u001b[39m entropy_jk(x, edges)\n\u001b[0;32m---> 28\u001b[0m h_jvhw[i,j] \u001b[39m=\u001b[39m entropy_jvhw(x)\n",
      "Cell \u001b[0;32mIn[6], line 18\u001b[0m, in \u001b[0;36mentropy_jvhw\u001b[0;34m(x)\u001b[0m\n\u001b[1;32m      4\u001b[0m \u001b[39m\u001b[39m\u001b[39m'''JVHW estimator of discrete entropy.\u001b[39;00m\n\u001b[1;32m      5\u001b[0m \u001b[39m    \u001b[39;00m\n\u001b[1;32m      6\u001b[0m \u001b[39mParameter\u001b[39;00m\n\u001b[0;32m   (...)\u001b[0m\n\u001b[1;32m     14\u001b[0m \u001b[39m    Entropy estimate\u001b[39;00m\n\u001b[1;32m     15\u001b[0m \u001b[39m'''\u001b[39;00m\n\u001b[1;32m     17\u001b[0m \u001b[39m# insert your code here (1 pt)\u001b[39;00m\n\u001b[0;32m---> 18\u001b[0m H \u001b[39m=\u001b[39m ee\u001b[39m.\u001b[39;49mest_entro_JVHW(x)\n\u001b[1;32m     20\u001b[0m \u001b[39mreturn\u001b[39;00m H\n",
      "File \u001b[0;32m~/Documents/uni_tuebingen/neuraldatascience/notebooks/est_entro.py:30\u001b[0m, in \u001b[0;36mest_entro_JVHW\u001b[0;34m(samp)\u001b[0m\n\u001b[1;32m     28\u001b[0m \u001b[39mglobal\u001b[39;00m poly_entro\n\u001b[1;32m     29\u001b[0m \u001b[39mif\u001b[39;00m poly_entro \u001b[39mis\u001b[39;00m \u001b[39mNone\u001b[39;00m:\n\u001b[0;32m---> 30\u001b[0m     poly_entro \u001b[39m=\u001b[39m sio\u001b[39m.\u001b[39;49mloadmat(\u001b[39m'\u001b[39;49m\u001b[39mpoly_coeff_entro.mat\u001b[39;49m\u001b[39m'\u001b[39;49m)[\u001b[39m'\u001b[39m\u001b[39mpoly_entro\u001b[39m\u001b[39m'\u001b[39m]\n\u001b[1;32m     31\u001b[0m coeff \u001b[39m=\u001b[39m poly_entro[order\u001b[39m-\u001b[39m\u001b[39m1\u001b[39m, \u001b[39m0\u001b[39m][\u001b[39m0\u001b[39m]\n\u001b[1;32m     33\u001b[0m f \u001b[39m=\u001b[39m fingerprint(samp)\n",
      "File \u001b[0;32m/opt/homebrew/lib/python3.11/site-packages/scipy/io/matlab/_mio.py:225\u001b[0m, in \u001b[0;36mloadmat\u001b[0;34m(file_name, mdict, appendmat, **kwargs)\u001b[0m\n\u001b[1;32m     88\u001b[0m \u001b[39m\u001b[39m\u001b[39m\"\"\"\u001b[39;00m\n\u001b[1;32m     89\u001b[0m \u001b[39mLoad MATLAB file.\u001b[39;00m\n\u001b[1;32m     90\u001b[0m \n\u001b[0;32m   (...)\u001b[0m\n\u001b[1;32m    222\u001b[0m \u001b[39m    3.14159265+3.14159265j])\u001b[39;00m\n\u001b[1;32m    223\u001b[0m \u001b[39m\"\"\"\u001b[39;00m\n\u001b[1;32m    224\u001b[0m variable_names \u001b[39m=\u001b[39m kwargs\u001b[39m.\u001b[39mpop(\u001b[39m'\u001b[39m\u001b[39mvariable_names\u001b[39m\u001b[39m'\u001b[39m, \u001b[39mNone\u001b[39;00m)\n\u001b[0;32m--> 225\u001b[0m \u001b[39mwith\u001b[39;49;00m _open_file_context(file_name, appendmat) \u001b[39mas\u001b[39;49;00m f:\n\u001b[1;32m    226\u001b[0m     MR, _ \u001b[39m=\u001b[39;49m mat_reader_factory(f, \u001b[39m*\u001b[39;49m\u001b[39m*\u001b[39;49mkwargs)\n\u001b[1;32m    227\u001b[0m     matfile_dict \u001b[39m=\u001b[39;49m MR\u001b[39m.\u001b[39;49mget_variables(variable_names)\n",
      "File \u001b[0;32m/opt/homebrew/Cellar/python@3.11/3.11.4/Frameworks/Python.framework/Versions/3.11/lib/python3.11/contextlib.py:137\u001b[0m, in \u001b[0;36m_GeneratorContextManager.__enter__\u001b[0;34m(self)\u001b[0m\n\u001b[1;32m    135\u001b[0m \u001b[39mdel\u001b[39;00m \u001b[39mself\u001b[39m\u001b[39m.\u001b[39margs, \u001b[39mself\u001b[39m\u001b[39m.\u001b[39mkwds, \u001b[39mself\u001b[39m\u001b[39m.\u001b[39mfunc\n\u001b[1;32m    136\u001b[0m \u001b[39mtry\u001b[39;00m:\n\u001b[0;32m--> 137\u001b[0m     \u001b[39mreturn\u001b[39;00m \u001b[39mnext\u001b[39m(\u001b[39mself\u001b[39m\u001b[39m.\u001b[39mgen)\n\u001b[1;32m    138\u001b[0m \u001b[39mexcept\u001b[39;00m \u001b[39mStopIteration\u001b[39;00m:\n\u001b[1;32m    139\u001b[0m     \u001b[39mraise\u001b[39;00m \u001b[39mRuntimeError\u001b[39;00m(\u001b[39m\"\u001b[39m\u001b[39mgenerator didn\u001b[39m\u001b[39m'\u001b[39m\u001b[39mt yield\u001b[39m\u001b[39m\"\u001b[39m) \u001b[39mfrom\u001b[39;00m \u001b[39mNone\u001b[39m\n",
      "File \u001b[0;32m/opt/homebrew/lib/python3.11/site-packages/scipy/io/matlab/_mio.py:17\u001b[0m, in \u001b[0;36m_open_file_context\u001b[0;34m(file_like, appendmat, mode)\u001b[0m\n\u001b[1;32m     15\u001b[0m \u001b[39m@contextmanager\u001b[39m\n\u001b[1;32m     16\u001b[0m \u001b[39mdef\u001b[39;00m \u001b[39m_open_file_context\u001b[39m(file_like, appendmat, mode\u001b[39m=\u001b[39m\u001b[39m'\u001b[39m\u001b[39mrb\u001b[39m\u001b[39m'\u001b[39m):\n\u001b[0;32m---> 17\u001b[0m     f, opened \u001b[39m=\u001b[39m _open_file(file_like, appendmat, mode)\n\u001b[1;32m     18\u001b[0m     \u001b[39mtry\u001b[39;00m:\n\u001b[1;32m     19\u001b[0m         \u001b[39myield\u001b[39;00m f\n",
      "File \u001b[0;32m/opt/homebrew/lib/python3.11/site-packages/scipy/io/matlab/_mio.py:45\u001b[0m, in \u001b[0;36m_open_file\u001b[0;34m(file_like, appendmat, mode)\u001b[0m\n\u001b[1;32m     43\u001b[0m     \u001b[39mif\u001b[39;00m appendmat \u001b[39mand\u001b[39;00m \u001b[39mnot\u001b[39;00m file_like\u001b[39m.\u001b[39mendswith(\u001b[39m'\u001b[39m\u001b[39m.mat\u001b[39m\u001b[39m'\u001b[39m):\n\u001b[1;32m     44\u001b[0m         file_like \u001b[39m+\u001b[39m\u001b[39m=\u001b[39m \u001b[39m'\u001b[39m\u001b[39m.mat\u001b[39m\u001b[39m'\u001b[39m\n\u001b[0;32m---> 45\u001b[0m     \u001b[39mreturn\u001b[39;00m \u001b[39mopen\u001b[39;49m(file_like, mode), \u001b[39mTrue\u001b[39;00m\n\u001b[1;32m     46\u001b[0m \u001b[39melse\u001b[39;00m:\n\u001b[1;32m     47\u001b[0m     \u001b[39mraise\u001b[39;00m \u001b[39mOSError\u001b[39;00m(\n\u001b[1;32m     48\u001b[0m         \u001b[39m'\u001b[39m\u001b[39mReader needs file name or open file-like object\u001b[39m\u001b[39m'\u001b[39m\n\u001b[1;32m     49\u001b[0m     ) \u001b[39mfrom\u001b[39;00m \u001b[39me\u001b[39;00m\n",
      "\u001b[0;31mFileNotFoundError\u001b[0m: [Errno 2] No such file or directory: 'poly_coeff_entro.mat'"
     ]
    }
   ],
   "source": [
    "sample_sizes = np.round(np.logspace(1,5,num=10))\n",
    "n_runs = 30\n",
    "\n",
    "edges = np.arange(-0.5, N, 1)\n",
    "\n",
    "h_mle  = np.zeros((len(sample_sizes), n_runs))\n",
    "h_mm   = np.zeros((len(sample_sizes), n_runs))\n",
    "h_jk   = np.zeros((len(sample_sizes), n_runs))\n",
    "h_cae  = np.zeros((len(sample_sizes), n_runs))\n",
    "h_jvhw = np.zeros((len(sample_sizes), n_runs))\n",
    "\n",
    "# add h_unseen or h_bub here if you implemented them.\n",
    "\n",
    "for i, S in enumerate(sample_sizes):\n",
    "    for j in np.arange(n_runs):\n",
    "    \n",
    "        # ---------------------------------------\n",
    "        # Sample from the Zipf distribution\n",
    "        # with different sample size (0.5 pts)\n",
    "        # ---------------------------------------\n",
    "\n",
    "        # insert your code here   \n",
    "        \n",
    "        h_mle[i,j]  = entropy_mle(phat)\n",
    "        h_mm[i,j]   = entropy_mm(phat, S)\n",
    "        h_cae[i,j]  = entropy_cae(phat, S)\n",
    "        h_jk[i,j]   = entropy_jk(x, edges)\n",
    "        h_jvhw[i,j] = entropy_jvhw(x)\n"
   ]
  },
  {
   "cell_type": "markdown",
   "metadata": {},
   "source": [
    "Plot resulting average estimate of the entropy for each of the estimators. Which is best? If you implemented everything correctly, this plot should roughly look like in the lecture."
   ]
  },
  {
   "cell_type": "code",
   "execution_count": null,
   "metadata": {},
   "outputs": [],
   "source": [
    "plt.figure()\n",
    "\n",
    "plt.semilogx(sample_sizes, np.mean(h_mle,  axis=1), label='mle')\n",
    "plt.semilogx(sample_sizes, np.mean(h_mm,   axis=1), label='mm')\n",
    "plt.semilogx(sample_sizes, np.mean(h_cae,  axis=1), label='cae')\n",
    "plt.semilogx(sample_sizes, np.mean(h_jk,   axis=1), label='jk')\n",
    "plt.semilogx(sample_sizes, np.mean(h_jvhw, axis=1), label='jvhw')\n",
    "\n",
    "# plot h_unseen or h_bub here if you implemented them.\n",
    "\n",
    "plt.axhline(H, color='black', linestyle=':')\n",
    "plt.legend()\n",
    "\n"
   ]
  }
 ],
 "metadata": {
  "anaconda-cloud": {},
  "interpreter": {
   "hash": "4a52f57b56c27f38fc3d95daa57af6da3929fe8541a384ec0d11efb6a1b206eb"
  },
  "kernelspec": {
   "display_name": "Python 3.10.0 64-bit ('base')",
   "language": "python",
   "name": "python3"
  },
  "language_info": {
   "codemirror_mode": {
    "name": "ipython",
    "version": 3
   },
   "file_extension": ".py",
   "mimetype": "text/x-python",
   "name": "python",
   "nbconvert_exporter": "python",
   "pygments_lexer": "ipython3",
   "version": "3.11.4"
  },
  "nteract": {
   "version": "0.13.0"
  },
  "varInspector": {
   "cols": {
    "lenName": 16,
    "lenType": 16,
    "lenVar": 40
   },
   "kernels_config": {
    "python": {
     "delete_cmd_postfix": "",
     "delete_cmd_prefix": "del ",
     "library": "var_list.py",
     "varRefreshCmd": "print(var_dic_list())"
    },
    "r": {
     "delete_cmd_postfix": ") ",
     "delete_cmd_prefix": "rm(",
     "library": "var_list.r",
     "varRefreshCmd": "cat(var_dic_list()) "
    }
   },
   "types_to_exclude": [
    "module",
    "function",
    "builtin_function_or_method",
    "instance",
    "_Feature"
   ],
   "window_display": false
  }
 },
 "nbformat": 4,
 "nbformat_minor": 4
}
