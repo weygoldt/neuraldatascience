{
 "cells": [
  {
   "attachments": {},
   "cell_type": "markdown",
   "metadata": {},
   "source": [
    "_Neural Data Science_\n",
    "\n",
    "Lecturer: Prof. Dr. Philipp Berens\n",
    "\n",
    "Tutors: Jonas Beck, Ziwei Huang, Rita González Márquez\n",
    "\n",
    "Summer term 2023\n",
    "\n",
    "Name: FILL IN YOUR NAMES HERE\n",
    "\n",
    "# Coding Lab 4\n",
    "\n",
    "If needed, download the data files ```nds_cl_4_*.csv``` from ILIAS and save it in the subfolder ```../data/```. Use a subset of the data for testing and debugging, ideally focus on a single cell (e.g. cell number x). The spike times and stimulus conditions are read in as pandas data frames. You can solve the exercise by making heavy use of that, allowing for many quite compact computationis. If you need help on that, there is lots of [documentation](http://pandas.pydata.org/pandas-docs/stable/index.html) and several good [tutorials](https://www.datacamp.com/community/tutorials/pandas-tutorial-dataframe-python#gs.L37i87A) are available online. Of course, converting the data into classical numpy arrays is also valid."
   ]
  },
  {
   "cell_type": "code",
   "execution_count": 1,
   "metadata": {},
   "outputs": [
    {
     "data": {
      "text/html": [
       "\n",
       "                <script type=\"application/javascript\" id=\"jupyter_black\">\n",
       "                (function() {\n",
       "                    if (window.IPython === undefined) {\n",
       "                        return\n",
       "                    }\n",
       "                    var msg = \"WARNING: it looks like you might have loaded \" +\n",
       "                        \"jupyter_black in a non-lab notebook with \" +\n",
       "                        \"`is_lab=True`. Please double check, and if \" +\n",
       "                        \"loading with `%load_ext` please review the README!\"\n",
       "                    console.log(msg)\n",
       "                    alert(msg)\n",
       "                })()\n",
       "                </script>\n",
       "                "
      ],
      "text/plain": [
       "<IPython.core.display.HTML object>"
      ]
     },
     "metadata": {},
     "output_type": "display_data"
    },
    {
     "name": "stdout",
     "output_type": "stream",
     "text": [
      "Last updated: 2023-05-12 13:40:45CEST\n",
      "\n",
      "Python implementation: CPython\n",
      "Python version       : 3.11.3\n",
      "IPython version      : 8.11.0\n",
      "\n",
      "sklearn: 0.0.post1\n",
      "\n",
      "pandas    : 1.5.3\n",
      "matplotlib: 3.7.1\n",
      "seaborn   : 0.12.2\n",
      "scipy     : 1.10.1\n",
      "numpy     : 1.24.3\n",
      "\n",
      "Watermark: 2.3.1\n",
      "\n"
     ]
    }
   ],
   "source": [
    "import pandas as pd\n",
    "import seaborn as sns\n",
    "import matplotlib.pyplot as plt\n",
    "import matplotlib as mpl\n",
    "import numpy as np\n",
    "import scipy.optimize as opt\n",
    "\n",
    "from scipy import signal as signal\n",
    "\n",
    "import itertools\n",
    "\n",
    "%matplotlib inline\n",
    "\n",
    "%load_ext jupyter_black\n",
    "\n",
    "%load_ext watermark\n",
    "%watermark --time --date --timezone --updated --python --iversions --watermark -p sklearn"
   ]
  },
  {
   "cell_type": "code",
   "execution_count": 2,
   "metadata": {},
   "outputs": [],
   "source": [
    "plt.style.use(\"../matplotlib_style.txt\")"
   ]
  },
  {
   "cell_type": "markdown",
   "metadata": {},
   "source": [
    "## Load data"
   ]
  },
  {
   "cell_type": "code",
   "execution_count": 3,
   "metadata": {},
   "outputs": [],
   "source": [
    "spikes = pd.read_csv(\"../data/nds_cl_4_spiketimes.csv\")  # neuron id, spike time\n",
    "stims = pd.read_csv(\"../data/nds_cl_4_stimulus.csv\")  # stimulus onset in ms, direction\n",
    "\n",
    "stimDur = 2000.0  # in ms\n",
    "nTrials = 11  # number of trials per condition\n",
    "nDirs = 16  # number of conditions\n",
    "deltaDir = 22.5  # difference between conditions\n",
    "\n",
    "stims[\"StimOffset\"] = stims[\"StimOnset\"] + stimDur"
   ]
  },
  {
   "cell_type": "markdown",
   "metadata": {},
   "source": [
    "We require some more information about the spikes for the plots and analyses we intend to make later. With a solution based on dataframes, it is natural to compute this information here and add it as additional columns to the `spikes` dataframe by combining it with the `stims` dataframe. We later need to know which condition (`Dir`) and trial (`Trial`) a spike was recorded in, the relative spike times compared to stimulus onset of the stimulus it was recorded in (`relTime`) and whether a spike was during the stimulation period (`stimPeriod`). But there are many options how to solve this exercise and you are free to choose any of them."
   ]
  },
  {
   "cell_type": "code",
   "execution_count": 4,
   "metadata": {},
   "outputs": [],
   "source": [
    "# you may add computations as specified above\n",
    "spikes[\"Dir\"] = np.nan\n",
    "spikes[\"relTime\"] = np.nan\n",
    "spikes[\"Trial\"] = np.nan\n",
    "spikes[\"stimPeriod\"] = np.nan\n",
    "\n",
    "dirs = np.unique(stims[\"Dir\"])\n",
    "trialcounter = np.zeros_like(dirs)\n",
    "\n",
    "for i, row in stims.iterrows():\n",
    "    trialcounter[dirs == row[\"Dir\"]] += 1\n",
    "\n",
    "    i0 = spikes[\"SpikeTimes\"] > row[\"StimOnset\"]\n",
    "    i1 = spikes[\"SpikeTimes\"] < row[\"StimOffset\"]\n",
    "\n",
    "    select = i0.values & i1.values\n",
    "\n",
    "    spikes.loc[select, \"Dir\"] = row[\"Dir\"]\n",
    "    spikes.loc[select, \"Trial\"] = trialcounter[dirs == row[\"Dir\"]][0]\n",
    "    spikes.loc[select, \"relTime\"] = spikes.loc[select, \"SpikeTimes\"] - row[\"StimOnset\"]\n",
    "    spikes.loc[select, \"stimPeriod\"] = True\n",
    "\n",
    "spikes = spikes.dropna()"
   ]
  },
  {
   "cell_type": "code",
   "execution_count": 8,
   "metadata": {},
   "outputs": [
    {
     "data": {
      "text/html": [
       "<div>\n",
       "<style scoped>\n",
       "    .dataframe tbody tr th:only-of-type {\n",
       "        vertical-align: middle;\n",
       "    }\n",
       "\n",
       "    .dataframe tbody tr th {\n",
       "        vertical-align: top;\n",
       "    }\n",
       "\n",
       "    .dataframe thead th {\n",
       "        text-align: right;\n",
       "    }\n",
       "</style>\n",
       "<table border=\"1\" class=\"dataframe\">\n",
       "  <thead>\n",
       "    <tr style=\"text-align: right;\">\n",
       "      <th></th>\n",
       "      <th>Neuron</th>\n",
       "      <th>SpikeTimes</th>\n",
       "      <th>Dir</th>\n",
       "      <th>relTime</th>\n",
       "      <th>Trial</th>\n",
       "      <th>stimPeriod</th>\n",
       "    </tr>\n",
       "  </thead>\n",
       "  <tbody>\n",
       "    <tr>\n",
       "      <th>514</th>\n",
       "      <td>1</td>\n",
       "      <td>15739.000000</td>\n",
       "      <td>270.0</td>\n",
       "      <td>169.000000</td>\n",
       "      <td>1.0</td>\n",
       "      <td>True</td>\n",
       "    </tr>\n",
       "    <tr>\n",
       "      <th>515</th>\n",
       "      <td>1</td>\n",
       "      <td>15776.566667</td>\n",
       "      <td>270.0</td>\n",
       "      <td>206.566667</td>\n",
       "      <td>1.0</td>\n",
       "      <td>True</td>\n",
       "    </tr>\n",
       "    <tr>\n",
       "      <th>516</th>\n",
       "      <td>1</td>\n",
       "      <td>15808.466667</td>\n",
       "      <td>270.0</td>\n",
       "      <td>238.466667</td>\n",
       "      <td>1.0</td>\n",
       "      <td>True</td>\n",
       "    </tr>\n",
       "    <tr>\n",
       "      <th>517</th>\n",
       "      <td>1</td>\n",
       "      <td>15821.900000</td>\n",
       "      <td>270.0</td>\n",
       "      <td>251.900000</td>\n",
       "      <td>1.0</td>\n",
       "      <td>True</td>\n",
       "    </tr>\n",
       "    <tr>\n",
       "      <th>518</th>\n",
       "      <td>1</td>\n",
       "      <td>15842.966667</td>\n",
       "      <td>270.0</td>\n",
       "      <td>272.966667</td>\n",
       "      <td>1.0</td>\n",
       "      <td>True</td>\n",
       "    </tr>\n",
       "  </tbody>\n",
       "</table>\n",
       "</div>"
      ],
      "text/plain": [
       "     Neuron    SpikeTimes    Dir     relTime  Trial stimPeriod\n",
       "514       1  15739.000000  270.0  169.000000    1.0       True\n",
       "515       1  15776.566667  270.0  206.566667    1.0       True\n",
       "516       1  15808.466667  270.0  238.466667    1.0       True\n",
       "517       1  15821.900000  270.0  251.900000    1.0       True\n",
       "518       1  15842.966667  270.0  272.966667    1.0       True"
      ]
     },
     "execution_count": 8,
     "metadata": {},
     "output_type": "execute_result"
    }
   ],
   "source": [
    "spikes.head()"
   ]
  },
  {
   "cell_type": "markdown",
   "metadata": {},
   "source": [
    "## Task 1: Plot spike rasters\n",
    "\n",
    "In a raster plot, each spike is shown by a small tick at the time it occurs relative to stimulus onset. Implement a function `plotRaster()` that plots the spikes of one cell as one trial per row, sorted by conditions (similar to what you saw in the lecture). Why are there no spikes in some conditions and many in others?\n",
    "\n",
    "If you opt for a solution without a dataframe, you need to change the interface of the function.\n",
    "\n",
    "*Grading: 2 pts*\n"
   ]
  },
  {
   "cell_type": "code",
   "execution_count": 34,
   "metadata": {},
   "outputs": [],
   "source": [
    "def plotRaster(spikes, neuron):\n",
    "    \"\"\"plot spike rasters for a single neuron sorted by condition\n",
    "\n",
    "    Parameters\n",
    "    ----------\n",
    "\n",
    "    spikes: pd.DataFrame\n",
    "        Pandas DataFrame with columns\n",
    "            Neuron | SpikeTimes | Dir | relTime | Trial | stimPeriod\n",
    "\n",
    "    neuron: int\n",
    "        Neuron ID\n",
    "\n",
    "\n",
    "    Note\n",
    "    ----\n",
    "\n",
    "    this function does not return anything, it just creates a plot!\n",
    "    \"\"\"\n",
    "\n",
    "    fig, ax = plt.subplots(figsize=(8, 4))\n",
    "\n",
    "    # get subset of the dataframe for the neuron\n",
    "    spikes_neuron = spikes[spikes[\"Neuron\"] == neuron]\n",
    "\n",
    "    # sort the spikes by direction\n",
    "    spikes_neuron = spikes_neuron.sort_values(by=\"Dir\")\n",
    "    # plot the spikes for each trial in a raster plot\n",
    "\n",
    "    for trial in np.unique(spikes_neuron[\"Trial\"]):\n",
    "        spikes_trial = spikes_neuron[spikes_neuron[\"Trial\"] == trial]\n",
    "        ax.scatter(\n",
    "            spikes_trial[\"SpikeTimes\"],\n",
    "            spikes_trial[\"Dir\"],\n",
    "            marker=\"|\",\n",
    "            color=\"k\",\n",
    "            s=10,\n",
    "            linewidths=0.5,\n",
    "        )\n",
    "\n",
    "    # -------------------------------------------------\n",
    "    # Write a raster plot function for the data (2 pts)\n",
    "    # -------------------------------------------------\n",
    "\n",
    "    # insert your code here\n",
    "    # stim direction should be on the y-axis and time on the x-axis\n",
    "    # you can use plt.scatter or plt.plot to plot the responses to each stim"
   ]
  },
  {
   "cell_type": "markdown",
   "metadata": {},
   "source": [
    "Show examples of different neurons. Good candidates to check are 28, 29, 36 or 37. "
   ]
  },
  {
   "cell_type": "code",
   "execution_count": 35,
   "metadata": {},
   "outputs": [
    {
     "data": {
      "image/png": "[encoded data removed]",
      "text/plain": [
       "<Figure size 800x400 with 1 Axes>"
      ]
     },
     "metadata": {},
     "output_type": "display_data"
    },
    {
     "data": {
      "image/png": "[encoded data removed]",
      "text/plain": [
       "<Figure size 800x400 with 1 Axes>"
      ]
     },
     "metadata": {},
     "output_type": "display_data"
    },
    {
     "data": {
      "image/png": "[encoded data removed]",
      "text/plain": [
       "<Figure size 800x400 with 1 Axes>"
      ]
     },
     "metadata": {},
     "output_type": "display_data"
    },
    {
     "data": {
      "image/png": "[encoded data removed]",
      "text/plain": [
       "<Figure size 800x400 with 1 Axes>"
      ]
     },
     "metadata": {},
     "output_type": "display_data"
    }
   ],
   "source": [
    "plotRaster(spikes, 28)\n",
    "plotRaster(spikes, 29)\n",
    "plotRaster(spikes, 36)\n",
    "plotRaster(spikes, 37)"
   ]
  },
  {
   "cell_type": "code",
   "execution_count": null,
   "metadata": {},
   "outputs": [],
   "source": []
  },
  {
   "attachments": {},
   "cell_type": "markdown",
   "metadata": {},
   "source": [
    "## Task 2: Plot spike density functions\n",
    "\n",
    "Compute an estimate of the spike rate against time relative to stimulus onset. There are two ways:\n",
    "* Discretize time: Decide on a bin size, count the spikes in each bin and average across trials. \n",
    "* Directly estimate the probability of spiking using a density estimator with specified kernel width. \n",
    "\n",
    "Implement one of them in the function `plotPsth()`. If you use a dataframe you may need to change the interface of the function.\n",
    "\n",
    "\n",
    "*Grading: 2 pts*\n"
   ]
  },
  {
   "cell_type": "code",
   "execution_count": null,
   "metadata": {},
   "outputs": [],
   "source": [
    "def plotPSTH(spikes, neuron):\n",
    "    \"\"\"Plot PSTH for a single neuron sorted by condition\n",
    "\n",
    "    Parameters\n",
    "    ----------\n",
    "\n",
    "    spikes: pd.DataFrame\n",
    "        Pandas DataFrame with columns\n",
    "            Neuron | SpikeTimes | Dir | relTime | Trial | stimPeriod\n",
    "\n",
    "    neuron: int\n",
    "        Neuron ID\n",
    "\n",
    "\n",
    "    Note\n",
    "    ----\n",
    "\n",
    "    this function does not return anything, it just creates a plot!\n",
    "    \"\"\"\n",
    "\n",
    "    # insert your code here\n",
    "\n",
    "    fig, ax = plt.subplots(figsize=(8, 4))\n",
    "\n",
    "    # ------------------------------------------------\n",
    "    # Implement one of the spike rate estimates (1 pt)\n",
    "    # ------------------------------------------------\n",
    "\n",
    "    # ---------------------------------------------\n",
    "    # Plot the obtained spike rate estimates (1 pt)\n",
    "    # ---------------------------------------------\n",
    "\n",
    "    # plot should look similar to `plotRaster`\n",
    "    # you can plot use plt.hist for each direction, but much cleaner\n",
    "    # is to only plot bin centers vs bin heights using plt.plot"
   ]
  },
  {
   "cell_type": "markdown",
   "metadata": {},
   "source": [
    "Show examples of different neurons. Good candidates to check are 28, 29, 36 or 37. "
   ]
  },
  {
   "cell_type": "code",
   "execution_count": null,
   "metadata": {},
   "outputs": [],
   "source": [
    "plotPSTH(spikes, 28)\n",
    "plotPSTH(spikes, 29)\n",
    "plotPSTH(spikes, 36)\n",
    "plotPSTH(spikes, 37)"
   ]
  },
  {
   "cell_type": "code",
   "execution_count": null,
   "metadata": {},
   "outputs": [],
   "source": [
    "plotRaster(spikes, 37)\n",
    "plotPSTH(spikes, 37)"
   ]
  },
  {
   "cell_type": "markdown",
   "metadata": {},
   "source": [
    "## Task 3: Fit and plot tuning functions\n",
    "\n",
    "The goal is to visualize the activity of each neuron as a function of stimulus direction. First, compute the spike counts of each neuron for each direction of motion and trial.  The result should be a matrix `x`, where $x_{jk}$ represents the spike count of the $j$-th response to the $k$-th direction of motion (i.e. each column contains the spike counts for all trials with one direction of motion).\tIf you used dataframes above, the `groupby()` function allows to implement this very compactely. Make sure you don't loose trials with zero spikes though. Again, other implementations are completely fine.\n",
    "\n",
    "Fit the tuning curve, i.e. the average spike count per direction, using a von Mises model. To capture the non-linearity and direction selectivity of the neurons, we will fit a modified von Mises function:\n",
    "\n",
    "$$ f(\\theta) = \\exp(\\alpha + \\kappa (\\cos (2*(\\theta-\\phi))-1) + \\nu (\\cos (\\theta-\\phi)-1))$$\n",
    "\n",
    "Here, $\\theta$ is the stimulus direction. Implement the von Mises function in `vonMises()` and plot it to understand how to interpret its parameters $\\phi$, $\\kappa$, $\\nu$, $\\alpha$. Perform a non-linear least squares fit using a package/function of your choice. Implement the fitting in `tuningCurve()`. \n",
    "\n",
    "Plot the average number of spikes per direction, the spike counts from individual trials as well as your optimal fit.\n",
    "\n",
    "Select two cells that show nice tuning to test you code.\n",
    "\n",
    "*Grading: 3 pts*"
   ]
  },
  {
   "cell_type": "code",
   "execution_count": null,
   "metadata": {},
   "outputs": [],
   "source": [
    "def vonMises(θ, α, κ, ν, ϕ):\n",
    "    \"\"\"Evaluate the parametric von Mises tuning curve with parameters p at locations theta.\n",
    "\n",
    "    Parameters\n",
    "    ----------\n",
    "\n",
    "    θ: np.array, shape=(N, )\n",
    "        Locations. The input unit is degree.\n",
    "\n",
    "    α, κ, ν, ϕ : float\n",
    "        Function parameters\n",
    "\n",
    "    Return\n",
    "    ------\n",
    "    f: np.array, shape=(N, )\n",
    "        Tuning curve.\n",
    "    \"\"\"\n",
    "\n",
    "    # insert your code here\n",
    "\n",
    "    # -----------------------------------\n",
    "    # Implement the Mises model (0.5 pts)\n",
    "    # -----------------------------------\n",
    "\n",
    "    return f"
   ]
  },
  {
   "cell_type": "markdown",
   "metadata": {},
   "source": [
    "Plot the von Mises function while varying the parameters systematically."
   ]
  },
  {
   "cell_type": "code",
   "execution_count": null,
   "metadata": {},
   "outputs": [],
   "source": [
    "# --------------------------------------------------------------------------------\n",
    "# plot von Mises curves with varying parameters and explain what they do (0.5 pts)\n",
    "# --------------------------------------------------------------------------------\n",
    "\n",
    "fig, ax = plt.subplots(figsize=(8, 4))"
   ]
  },
  {
   "cell_type": "code",
   "execution_count": null,
   "metadata": {},
   "outputs": [],
   "source": [
    "def tuningCurve(counts, dirs, show=True):\n",
    "    \"\"\"Fit a von Mises tuning curve to the spike counts in count with direction dir using a least-squares fit.\n",
    "\n",
    "    Parameters\n",
    "    ----------\n",
    "\n",
    "    counts: np.array, shape=(total_n_trials, )\n",
    "        the spike count during the stimulation period\n",
    "\n",
    "    dirs: np.array, shape=(total_n_trials, )\n",
    "        the stimulus direction in degrees\n",
    "\n",
    "    show: bool, default=True\n",
    "        Plot or not.\n",
    "\n",
    "\n",
    "    Return\n",
    "    ------\n",
    "    p: np.array or list, (4,)\n",
    "        parameter vector of tuning curve function\n",
    "    \"\"\"\n",
    "\n",
    "    # insert your code here\n",
    "\n",
    "    # ----------------------------------------\n",
    "    # Compute the spike count matrix (0.5 pts)\n",
    "    # ----------------------------------------\n",
    "\n",
    "    # ------------------------------------------------------------\n",
    "    # fit the von Mises tuning curve to the spike counts (0.5 pts)\n",
    "    # ------------------------------------------------------------\n",
    "\n",
    "    if show == True:\n",
    "        # -----------------------------------------------\n",
    "        # plot the data and fitted tuning curve (0.5 pts)\n",
    "        # -----------------------------------------------\n",
    "\n",
    "        fig, ax = plt.subplots(figsize=(7, 5))\n",
    "\n",
    "        # the plot should contain both the data and the fitted curve\n",
    "        # using seaborn makes this really easy\n",
    "\n",
    "        return\n",
    "    else:\n",
    "        return p"
   ]
  },
  {
   "cell_type": "markdown",
   "metadata": {},
   "source": [
    "Plot tuning curve and fit for different neurons. Good candidates to check are 28, 29 or 37. "
   ]
  },
  {
   "cell_type": "code",
   "execution_count": null,
   "metadata": {},
   "outputs": [],
   "source": [
    "def get_data(spikes, neuron):\n",
    "    spk_by_dir = (\n",
    "        spikes[spikes[\"Neuron\"] == neuron]\n",
    "        .groupby([\"Dir\", \"Trial\"])[\"stimPeriod\"]\n",
    "        .sum()\n",
    "        .astype(int)\n",
    "        .reset_index()\n",
    "    )\n",
    "\n",
    "    dirs = spk_by_dir[\"Dir\"].values\n",
    "    counts = spk_by_dir[\"stimPeriod\"].values\n",
    "\n",
    "    # because we count spikes only when they are present, some zero entries in the count vector are missing\n",
    "    for i, Dir in enumerate(np.unique(spikes[\"Dir\"])):\n",
    "        m = nTrials - np.sum(dirs == Dir)\n",
    "        if m > 0:\n",
    "            dirs = np.concatenate((dirs, np.ones(m) * Dir))\n",
    "            counts = np.concatenate((counts, np.zeros(m)))\n",
    "\n",
    "    idx = np.argsort(dirs)\n",
    "    dirs_sorted = dirs[idx]  # sorted dirs\n",
    "    counts_sorted = counts[idx]\n",
    "\n",
    "    return dirs_sorted, counts_sorted"
   ]
  },
  {
   "cell_type": "code",
   "execution_count": null,
   "metadata": {},
   "outputs": [],
   "source": [
    "# ---------------------------------------------------------\n",
    "# plot tuning curve and fit for different neurons (0.5 pts)\n",
    "# ---------------------------------------------------------\n",
    "\n",
    "dirs, counts = get_data(spikes, 28)\n",
    "# add plot"
   ]
  },
  {
   "cell_type": "code",
   "execution_count": null,
   "metadata": {},
   "outputs": [],
   "source": [
    "dirs, counts = get_data(spikes, 29)\n",
    "# add plot"
   ]
  },
  {
   "cell_type": "code",
   "execution_count": null,
   "metadata": {},
   "outputs": [],
   "source": [
    "dirs, counts = get_data(spikes, 36)\n",
    "# add plot"
   ]
  },
  {
   "cell_type": "code",
   "execution_count": null,
   "metadata": {},
   "outputs": [],
   "source": [
    "dirs, counts = get_data(spikes, 37)\n",
    "# add plot"
   ]
  },
  {
   "cell_type": "code",
   "execution_count": null,
   "metadata": {},
   "outputs": [],
   "source": [
    "dirs, counts = get_data(spikes, 32)\n",
    "# add plot"
   ]
  },
  {
   "cell_type": "markdown",
   "metadata": {},
   "source": [
    "## Task 4: Permutation test for direction tuning\n",
    "\n",
    "Implement a permutation test to quantitatively assess whether a neuron is direction/orientation selective. To do so, project the vector of average spike counts, $m_k=\\frac{1}{N}\\sum_j x_{jk}$ on a complex exponential with two cycles, $v_k = \\exp(\\psi i \\theta_k)$, where $\\theta_k$ is the $k$-th direction of motion in radians and $\\psi \\in 1,2$ is the fourier component to test (1: direction, 2: orientation). Denote the projection by $q=m^Tv$. The magnitude $|q|$ tells you how much power there is in the $\\psi$-th fourier component. \n",
    "\n",
    "Estimate the distribution of |q| under the null hypothesis that the neuron fires randomly across directions by running 1000 iterations where you repeat the same calculation as above but on a random permutation of the trials (that is, randomly shuffle the entries in the spike count matrix x). The fraction of iterations for which you obtain a value more extreme than what you observed in the data is your p-value. Implement this procedure in the function ```testTuning()```. \n",
    "\n",
    "Illustrate the test procedure for one of the cells from above. Plot the sampling distribution of |q| and indicate the value observed in the real data in your plot. \n",
    "\n",
    "How many cells are tuned at p < 0.01?\n",
    "\n",
    "*Grading: 3 pts*\n"
   ]
  },
  {
   "cell_type": "code",
   "execution_count": null,
   "metadata": {},
   "outputs": [],
   "source": [
    "def testTuning(counts, dirs, psi=1, niters=1000, show=False):\n",
    "    \"\"\"Plot the data if show is True, otherwise just return the fit.\n",
    "\n",
    "    Parameters\n",
    "    ----------\n",
    "\n",
    "    counts: np.array, shape=(total_n_trials, )\n",
    "        the spike count during the stimulation period\n",
    "\n",
    "    dirs: np.array, shape=(total_n_trials, )\n",
    "        the stimulus direction in degrees\n",
    "\n",
    "    psi: int\n",
    "        fourier component to test (1 = direction, 2 = orientation)\n",
    "\n",
    "    niters: int\n",
    "        Number of iterations / permutation\n",
    "\n",
    "    show: bool\n",
    "        Plot or not.\n",
    "\n",
    "    Returns\n",
    "    -------\n",
    "    p: float\n",
    "        p-value\n",
    "    q: float\n",
    "        magnitude of second Fourier component\n",
    "\n",
    "    qdistr: np.array\n",
    "        sampling distribution of |q| under the null hypothesis\n",
    "\n",
    "    \"\"\"\n",
    "\n",
    "    # insert your code here\n",
    "\n",
    "    # -------------------------------\n",
    "    # calculate m, nu and q (0.5 pts)\n",
    "    # -------------------------------\n",
    "\n",
    "    # -------------------------------------------------------------------------\n",
    "    # Estimate the distribution of q under the H0 and obtain the p value (1 pt)\n",
    "    # -------------------------------------------------------------------------\n",
    "\n",
    "    if show == True:\n",
    "        # -------------------------------\n",
    "        # plot the test results (0.5 pts)\n",
    "        # -------------------------------\n",
    "        fig, ax = plt.subplots(figsize=(7, 4))\n",
    "        # you can use sns.histplot for the histogram\n",
    "    else:\n",
    "        return p, q, qdistr"
   ]
  },
  {
   "cell_type": "markdown",
   "metadata": {},
   "source": [
    "Show null distribution for the example cell:"
   ]
  },
  {
   "cell_type": "code",
   "execution_count": null,
   "metadata": {},
   "outputs": [],
   "source": [
    "# ------------------------------------------------------------\n",
    "# Plot null distributions for example cells 28 & 29. (0.5 pts)\n",
    "# ------------------------------------------------------------\n",
    "\n",
    "dirs, counts = get_data(spikes, 28)\n",
    "# add plot"
   ]
  },
  {
   "cell_type": "code",
   "execution_count": null,
   "metadata": {},
   "outputs": [],
   "source": [
    "dirs, counts = get_data(spikes, 29)\n",
    "# add plot"
   ]
  },
  {
   "cell_type": "markdown",
   "metadata": {},
   "source": [
    "Test all cells for orientation and direction tuning"
   ]
  },
  {
   "cell_type": "code",
   "execution_count": null,
   "metadata": {},
   "outputs": [],
   "source": [
    "# -------------------------------------------------------\n",
    "# Test cells for orientation / direction tuning (0.5 pts)\n",
    "# -------------------------------------------------------\n",
    "\n",
    "# collect p values for orientation / direction selectivity"
   ]
  },
  {
   "cell_type": "markdown",
   "metadata": {},
   "source": [
    "Number of direction tuned neurons:"
   ]
  },
  {
   "cell_type": "code",
   "execution_count": null,
   "metadata": {},
   "outputs": [
    {
     "name": "stdout",
     "output_type": "stream",
     "text": [
      "12\n",
      "[[13 20 24 25 27 28 29 31 32 37 38 40]]\n"
     ]
    }
   ],
   "source": [
    "# count cells with p > 0.01 (which ones are they?)"
   ]
  },
  {
   "cell_type": "markdown",
   "metadata": {},
   "source": [
    "Number of orientation tuned neurons:"
   ]
  },
  {
   "cell_type": "code",
   "execution_count": null,
   "metadata": {},
   "outputs": [
    {
     "name": "stdout",
     "output_type": "stream",
     "text": [
      "34\n",
      "[[ 2  3  6  7  8 10 12 13 14 15 16 17 18 20 21 22 23 24 25 26 27 28 29 30\n",
      "  31 32 33 34 36 37 38 39 40 41]]\n"
     ]
    }
   ],
   "source": [
    "# count cells with p > 0.01 (which ones are they?)"
   ]
  }
 ],
 "metadata": {
  "kernelspec": {
   "display_name": "python3",
   "language": "python",
   "name": "python3"
  },
  "language_info": {
   "codemirror_mode": {
    "name": "ipython",
    "version": 3
   },
   "file_extension": ".py",
   "mimetype": "text/x-python",
   "name": "python",
   "nbconvert_exporter": "python",
   "pygments_lexer": "ipython3",
   "version": "3.11.3"
  }
 },
 "nbformat": 4,
 "nbformat_minor": 4
}
