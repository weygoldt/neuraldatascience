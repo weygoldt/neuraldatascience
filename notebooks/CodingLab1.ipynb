{
 "cells": [
  {
   "attachments": {},
   "cell_type": "markdown",
   "metadata": {
    "tags": []
   },
   "source": [
    "_Neural Data Science_\n",
    "\n",
    "Lecturer: Prof. Dr. Philipp Berens\n",
    "\n",
    "Tutors: Jonas Beck, Rita González Márquez\n",
    "\n",
    "Summer term 2023\n",
    "\n",
    "Student names: <span style='background: yellow'>*FILL IN YOUR NAMES HERE* </span>\n",
    "\n",
    "# Coding Lab 1\n",
    "\n",
    "- __Data__: Download the data file ```nds_cl_1.csv``` from ILIAS and save it in a subfolder ```../data/```.\n",
    "- __Dependencies__: You don't have to use the exact versions of all the dependencies in this notebook, as long as they are new enough. But if you run \"Run All\" in Jupyter and the boilerplate code breaks, you probably need to upgrade them.\n",
    "\n",
    "\n",
    "Recommended folder structure:\n",
    "\n",
    "```\n",
    ".\n",
    "├── data/\n",
    "│   └── nds_cl_1.csv\n",
    "├── notebooks\n",
    "│   └── CodingLab1.ipynb\n",
    "├── matplotlib_style.txt\n",
    "└── requirements.txt\n",
    "```"
   ]
  },
  {
   "cell_type": "code",
   "execution_count": 1,
   "metadata": {},
   "outputs": [
    {
     "data": {
      "text/html": [
       "\n",
       "                <script type=\"application/javascript\" id=\"jupyter_black\">\n",
       "                (function() {\n",
       "                    if (window.IPython === undefined) {\n",
       "                        return\n",
       "                    }\n",
       "                    var msg = \"WARNING: it looks like you might have loaded \" +\n",
       "                        \"jupyter_black in a non-lab notebook with \" +\n",
       "                        \"`is_lab=True`. Please double check, and if \" +\n",
       "                        \"loading with `%load_ext` please review the README!\"\n",
       "                    console.log(msg)\n",
       "                    alert(msg)\n",
       "                })()\n",
       "                </script>\n",
       "                "
      ],
      "text/plain": [
       "<IPython.core.display.HTML object>"
      ]
     },
     "metadata": {},
     "output_type": "display_data"
    },
    {
     "name": "stdout",
     "output_type": "stream",
     "text": [
      "Last updated: 2023-04-23 12:04:50CEST\n",
      "\n",
      "Python implementation: CPython\n",
      "Python version       : 3.11.2\n",
      "IPython version      : 8.12.0\n",
      "\n",
      "sklearn: 1.2.2\n",
      "\n",
      "scipy     : 1.10.1\n",
      "numpy     : 1.24.2\n",
      "pandas    : 2.0.0\n",
      "matplotlib: 3.7.1\n",
      "\n",
      "Watermark: 2.3.1\n",
      "\n"
     ]
    }
   ],
   "source": [
    "import numpy as np\n",
    "import pandas as pd\n",
    "import matplotlib.pyplot as plt\n",
    "from scipy import signal\n",
    "from sklearn.decomposition import PCA\n",
    "from __future__ import annotations  # for Python 3.8 and below\n",
    "\n",
    "%matplotlib qt\n",
    "\n",
    "# black is a code formatter (see https://github.com/psf/black).\n",
    "# It will automatically format the code you write in the cells imposing consistent Python style.\n",
    "%load_ext jupyter_black\n",
    "\n",
    "%load_ext watermark\n",
    "%watermark --time --date --timezone --updated --python --iversions --watermark -p sklearn"
   ]
  },
  {
   "cell_type": "code",
   "execution_count": 2,
   "metadata": {},
   "outputs": [],
   "source": [
    "# matplotlib style file\n",
    "# Template for style file: https://matplotlib.org/stable/tutorials/introductory/customizing.html#customizing-with-style-sheets\n",
    "# plt.style.use(\"../matplotlib_style.txt\")\n",
    "\n",
    "from plotstyle import PlotStyle\n",
    "\n",
    "ps = PlotStyle()"
   ]
  },
  {
   "cell_type": "markdown",
   "metadata": {},
   "source": [
    "## Load data"
   ]
  },
  {
   "cell_type": "code",
   "execution_count": 3,
   "metadata": {},
   "outputs": [],
   "source": [
    "fs = 30000.0  # sampling rate of the signal in Hz\n",
    "dt = 1 / fs\n",
    "cols = [\"Ch1\", \"Ch2\", \"Ch3\", \"Ch4\"]\n",
    "x = pd.read_csv(\"../data/nds_cl_1.csv\", header=0, names=cols)"
   ]
  },
  {
   "cell_type": "code",
   "execution_count": 4,
   "metadata": {},
   "outputs": [
    {
     "data": {
      "text/html": [
       "<div>\n",
       "<style scoped>\n",
       "    .dataframe tbody tr th:only-of-type {\n",
       "        vertical-align: middle;\n",
       "    }\n",
       "\n",
       "    .dataframe tbody tr th {\n",
       "        vertical-align: top;\n",
       "    }\n",
       "\n",
       "    .dataframe thead th {\n",
       "        text-align: right;\n",
       "    }\n",
       "</style>\n",
       "<table border=\"1\" class=\"dataframe\">\n",
       "  <thead>\n",
       "    <tr style=\"text-align: right;\">\n",
       "      <th></th>\n",
       "      <th>Ch1</th>\n",
       "      <th>Ch2</th>\n",
       "      <th>Ch3</th>\n",
       "      <th>Ch4</th>\n",
       "    </tr>\n",
       "  </thead>\n",
       "  <tbody>\n",
       "    <tr>\n",
       "      <th>count</th>\n",
       "      <td>1.920000e+07</td>\n",
       "      <td>1.920000e+07</td>\n",
       "      <td>1.920000e+07</td>\n",
       "      <td>1.920000e+07</td>\n",
       "    </tr>\n",
       "    <tr>\n",
       "      <th>mean</th>\n",
       "      <td>3.600331e+00</td>\n",
       "      <td>-8.850918e-01</td>\n",
       "      <td>2.864284e-01</td>\n",
       "      <td>2.210982e+00</td>\n",
       "    </tr>\n",
       "    <tr>\n",
       "      <th>std</th>\n",
       "      <td>5.824474e+02</td>\n",
       "      <td>6.014818e+02</td>\n",
       "      <td>6.464363e+02</td>\n",
       "      <td>6.126105e+02</td>\n",
       "    </tr>\n",
       "    <tr>\n",
       "      <th>min</th>\n",
       "      <td>-3.607000e+03</td>\n",
       "      <td>-3.739000e+03</td>\n",
       "      <td>-3.871000e+03</td>\n",
       "      <td>-3.750000e+03</td>\n",
       "    </tr>\n",
       "    <tr>\n",
       "      <th>25%</th>\n",
       "      <td>-3.460000e+02</td>\n",
       "      <td>-3.610000e+02</td>\n",
       "      <td>-3.950000e+02</td>\n",
       "      <td>-3.640000e+02</td>\n",
       "    </tr>\n",
       "    <tr>\n",
       "      <th>50%</th>\n",
       "      <td>1.200000e+01</td>\n",
       "      <td>8.000000e+00</td>\n",
       "      <td>-1.000000e+00</td>\n",
       "      <td>1.000000e+01</td>\n",
       "    </tr>\n",
       "    <tr>\n",
       "      <th>75%</th>\n",
       "      <td>3.650000e+02</td>\n",
       "      <td>3.720000e+02</td>\n",
       "      <td>4.010000e+02</td>\n",
       "      <td>3.810000e+02</td>\n",
       "    </tr>\n",
       "    <tr>\n",
       "      <th>max</th>\n",
       "      <td>2.873000e+03</td>\n",
       "      <td>3.004000e+03</td>\n",
       "      <td>3.099000e+03</td>\n",
       "      <td>3.017000e+03</td>\n",
       "    </tr>\n",
       "  </tbody>\n",
       "</table>\n",
       "</div>"
      ],
      "text/plain": [
       "                Ch1           Ch2           Ch3           Ch4\n",
       "count  1.920000e+07  1.920000e+07  1.920000e+07  1.920000e+07\n",
       "mean   3.600331e+00 -8.850918e-01  2.864284e-01  2.210982e+00\n",
       "std    5.824474e+02  6.014818e+02  6.464363e+02  6.126105e+02\n",
       "min   -3.607000e+03 -3.739000e+03 -3.871000e+03 -3.750000e+03\n",
       "25%   -3.460000e+02 -3.610000e+02 -3.950000e+02 -3.640000e+02\n",
       "50%    1.200000e+01  8.000000e+00 -1.000000e+00  1.000000e+01\n",
       "75%    3.650000e+02  3.720000e+02  4.010000e+02  3.810000e+02\n",
       "max    2.873000e+03  3.004000e+03  3.099000e+03  3.017000e+03"
      ]
     },
     "execution_count": 4,
     "metadata": {},
     "output_type": "execute_result"
    }
   ],
   "source": [
    "x.describe()"
   ]
  },
  {
   "cell_type": "markdown",
   "metadata": {},
   "source": [
    "## Task 1: Filter Signal\n",
    "\n",
    "In order to detect action potentials, the first step is to filter out low frequency fluctuations (LFP) and high frequency noise. Determine appropriate filter settings and implement the filtering in the function ```filter_signal()```. A typical choice for this task would be a <mark>butterworth filter</mark>. Plot a segment of the raw signal and the filtered signal for all four channels with matching y-axis. The segment you choose should contain spikes. When you apply the function also test different filter settings.\n",
    "\n",
    "*Grading: 2 pts*\n"
   ]
  },
  {
   "attachments": {},
   "cell_type": "markdown",
   "metadata": {},
   "source": [
    "For our filter we chose the butterworth bandpass filter. This takes care of removing the high- and low frequency noise in a single operation."
   ]
  },
  {
   "cell_type": "code",
   "execution_count": 5,
   "metadata": {},
   "outputs": [],
   "source": [
    "def filter_signal(\n",
    "    x: pd.DataFrame, fs: float, low: float, high: float, order: int = 3\n",
    ") -> pd.DataFrame:\n",
    "    \"\"\"Filter raw signal x.\n",
    "\n",
    "    Parameters\n",
    "    ----------\n",
    "\n",
    "    x: pd.DataFrame, (n_samples, n_channels)\n",
    "        Each column in x is one recording channel.\n",
    "\n",
    "    fs: float\n",
    "        Sampling frequency.\n",
    "\n",
    "    low, high: float, float\n",
    "        Passband in Hz for the butterworth filter.\n",
    "\n",
    "    order: int\n",
    "        The order of the Butterworth filter. Default is 3, but you should try\n",
    "        changing this and see how it affects the results.\n",
    "\n",
    "\n",
    "    Returns\n",
    "    -------\n",
    "\n",
    "    y: pd.DataFrame, (n_samples, n_channels)\n",
    "        The filtered x. The filter delay is compensated in the output y.\n",
    "\n",
    "\n",
    "    Notes\n",
    "    ----\n",
    "\n",
    "    1. Try exploring different filters and filter settings. More info:\n",
    "    https://docs.scipy.org/doc/scipy/reference/generated/scipy.signal.butter.html\n",
    "\n",
    "    2. The output signal should be phase-shift compensated. More info:\n",
    "    https://dsp.stackexchange.com/a/19086\n",
    "\n",
    "    \"\"\"\n",
    "\n",
    "    signals = []\n",
    "    col_names = []\n",
    "    for col in x.columns:\n",
    "        # get the 1d data\n",
    "        data = x[col].values\n",
    "\n",
    "        # get the filter coefficients\n",
    "        coeffs = signal.butter(order, [low, high], \"band\", fs=fs, output=\"sos\")\n",
    "\n",
    "        # pass the filter coefficients and the data to the filter function\n",
    "        filtered_data = signal.sosfiltfilt(sos=coeffs, x=data)\n",
    "\n",
    "        # stash to list\n",
    "        signals.append(filtered_data)\n",
    "        col_names.append(col)\n",
    "\n",
    "    # convert list to pd.DataFrame\n",
    "    df = pd.DataFrame(np.asarray(signals).T, columns=col_names)\n",
    "\n",
    "    return df"
   ]
  },
  {
   "attachments": {},
   "cell_type": "markdown",
   "metadata": {},
   "source": [
    "Here we apply the filter and create a time axis for plotting the signal using its samplingrate."
   ]
  },
  {
   "cell_type": "code",
   "execution_count": 6,
   "metadata": {},
   "outputs": [],
   "source": [
    "xf = filter_signal(x, fs, 500, 5000)\n",
    "time = np.arange(0, len(xf) / fs, dt)"
   ]
  },
  {
   "cell_type": "code",
   "execution_count": 7,
   "metadata": {},
   "outputs": [],
   "source": [
    "mosaic = [\n",
    "    [\"raw: Ch1\", \"filtered: Ch1\"],\n",
    "    [\"raw: Ch2\", \"filtered: Ch2\"],\n",
    "    [\"raw: Ch3\", \"filtered: Ch3\"],\n",
    "    [\"raw: Ch4\", \"filtered: Ch4\"],\n",
    "]\n",
    "fig, ax = plt.subplot_mosaic(\n",
    "    mosaic=mosaic, figsize=(8, 6), layout=\"constrained\", dpi=100\n",
    ")\n",
    "\n",
    "# for i, m in enumerate(mosaic):\n",
    "#     raw = m[0]\n",
    "#     filtered = m[1]\n",
    "#     sig = x[raw[-3:]].values\n",
    "#     sigf = xf[raw[-3:]].values\n",
    "\n",
    "#     ax[raw].plot(time, sig, lw=1)\n",
    "#     ax[filtered].plot(t, sigf, lw=1)\n",
    "\n",
    "\n",
    "for i, m in enumerate(mosaic):\n",
    "    raw = m[0]\n",
    "    filtered = m[1]\n",
    "    ax[raw].set_xlim((0, 3))\n",
    "    ax[raw].set_ylim((-1000, 1000))\n",
    "\n",
    "    ax[filtered].set_xlim((0, 3))\n",
    "    ax[filtered].set_ylim((-400, 250))\n",
    "\n",
    "    ax[raw].set_ylabel(\"voltage (\\u03BCV)\")\n",
    "    ax[filtered].set_title(m[1], loc=\"left\")\n",
    "\n",
    "    ax[raw].set_title(m[0], loc=\"left\")\n",
    "\n",
    "    if i != 3:\n",
    "        ax[raw].set_xticklabels([])\n",
    "        ax[filtered].set_xticklabels([])\n",
    "    else:\n",
    "        ax[raw].set_xlabel(\"time (s)\")\n",
    "        ax[filtered].set_xlabel(\"time (s)\")"
   ]
  },
  {
   "cell_type": "markdown",
   "metadata": {},
   "source": [
    "## Task 2: Detect action potentials\n",
    "\n",
    "Action potentials are usually detected by finding large-amplitude deflections in the continuous signal. A good choice of threshold for detecting spikes is important. If it is too low, you will detect too many low amplitude events (noise); if it is too high, you run the risk of missing good spikes. Implement an automatic procedure to obtain a reasonable threshold and detect the times when spikes occurred in the function ```detect_spikes()``` . Plot a segment of the filtered signal for all four channels with matching y-axis and indicate the time points where you detected spikes. **Plot the threshold**. Are the detected time points well aligned with peaks in the signal?\n",
    "\n",
    "*Grading: 3 pts*"
   ]
  },
  {
   "attachments": {},
   "cell_type": "markdown",
   "metadata": {},
   "source": [
    "For this we first need to convert the pandas dataframe into a np.ndarray."
   ]
  },
  {
   "cell_type": "code",
   "execution_count": 8,
   "metadata": {},
   "outputs": [
    {
     "name": "stdout",
     "output_type": "stream",
     "text": [
      "(19199999, 4)\n"
     ]
    }
   ],
   "source": [
    "xf = xf.values\n",
    "print(xf.shape)"
   ]
  },
  {
   "attachments": {},
   "cell_type": "markdown",
   "metadata": {},
   "source": [
    "A question I am still not quite sure about is whether to compute the threshold for the electrodes seperately for each electrode or for the whole signal. It 'feels' like computing\n",
    "it for all is better. But if there are slight differences in the electrodes resistance, this might not be the case. I am not sure how to deal with this correctly. For now, we will compute the threshold for each electrode seperately.\n",
    "\n",
    "Another question that comes up is why there should be a lockout, from my understanding a \n",
    "refractory period. We are recording many cells simultaneously, that can fire whenever they want. So why should we lockout the detection of spikes? The lockout should be implemented \n",
    "in the sorting process instead of the peak detection."
   ]
  },
  {
   "cell_type": "code",
   "execution_count": 9,
   "metadata": {},
   "outputs": [],
   "source": [
    "def detect_spikes(\n",
    "    x: np.ndarray, fs: float, N: int = 5, lockout: int = 10\n",
    ") -> tuple[np.ndarray, np.ndarray, np.float64]:\n",
    "    \"\"\"Detect spikes, in this case, the relative local minima of the signal x.\n",
    "\n",
    "    Parameters\n",
    "    ----------\n",
    "\n",
    "    x: np.array (n_samples, n_channels)\n",
    "        The filtered signal from Task 1.\n",
    "\n",
    "    fs: float\n",
    "        the sampling rate (in Hz).\n",
    "\n",
    "    N: int\n",
    "        An arbitrary number with which you multiply with the standard deviation\n",
    "        to set a threshold that controls your false positive rate. Default is 5\n",
    "        but you should try changing it and see how it affects the results.\n",
    "\n",
    "    lockout: int\n",
    "        a window of 'refactory period', within which there's only one spike.\n",
    "        Default is 10 but you should also try changing it.\n",
    "\n",
    "\n",
    "    Returns\n",
    "    -------\n",
    "\n",
    "    s: List[np.ndarray], (n_spikes, )\n",
    "        Spike location / index in the singal x. One array for each channel.\n",
    "\n",
    "    t: List(np.ndarray), (n_spikes, )\n",
    "        Spike time in ms. By convention the time of the zeroth sample is 0 ms.\n",
    "        One array for each channel.\n",
    "\n",
    "    thrd: List\n",
    "        Threshold = -N * sigma. One value for each channel.\n",
    "\n",
    "\n",
    "    Tips\n",
    "    ----\n",
    "\n",
    "    Use scipy functions to detect local minima.\n",
    "    Noted that there are four channels in signal x.\n",
    "\n",
    "    \"\"\"\n",
    "    s = []\n",
    "    t = []\n",
    "    thrd = []\n",
    "\n",
    "    # Thresholds will be calculated for each channel separately.\n",
    "    for ch in range(x.shape[1]):\n",
    "        # compute the robust standard deviation of the signal\n",
    "        rsd = np.median(np.abs(x[:, ch] - np.median(x[:, ch])) / 0.6745)\n",
    "\n",
    "        # We invert the signal since spikes are troughs when recorded\n",
    "        # extracellularly.\n",
    "        sig = -x[:, ch]\n",
    "\n",
    "        # Apply the thresold to the inverted signal by setting all values\n",
    "        # below the threshold to zero.\n",
    "        thresh = N * rsd\n",
    "        sig[sig < thresh] = 0\n",
    "\n",
    "        # Find all local maxima in the thresolded signal.\n",
    "        # Apply the refractory period by setting the distance between peaks\n",
    "        # to be at least lockout samples.\n",
    "        spike_indices, _ = signal.find_peaks(sig, distance=lockout)\n",
    "\n",
    "        # Convert the spike indices to spike times in ms.\n",
    "        spike_times = spike_indices / fs\n",
    "\n",
    "        # Stash the spike indices and spike times to lists.\n",
    "        s.append(spike_indices)\n",
    "        t.append(spike_times)\n",
    "        thrd.append(-thresh)  # invert back\n",
    "\n",
    "    return s, t, thrd"
   ]
  },
  {
   "cell_type": "code",
   "execution_count": 12,
   "metadata": {},
   "outputs": [
    {
     "name": "stdout",
     "output_type": "stream",
     "text": [
      "4\n",
      "193647\n"
     ]
    }
   ],
   "source": [
    "s, t, thrd = detect_spikes(xf, fs, N=2)\n",
    "print(len(s))\n",
    "print(len(s[0]))"
   ]
  },
  {
   "cell_type": "code",
   "execution_count": 13,
   "metadata": {},
   "outputs": [],
   "source": [
    "mosaic = [\n",
    "    [\"Ch1\"],\n",
    "    [\"Ch2\"],\n",
    "    [\"Ch3\"],\n",
    "    [\"Ch4\"],\n",
    "]\n",
    "fig, ax = plt.subplot_mosaic(\n",
    "    mosaic=mosaic, figsize=(8, 8), layout=\"constrained\", dpi=100, sharex=True\n",
    ")\n",
    "\n",
    "for i, col in enumerate(cols):\n",
    "    x = xf[:, i]\n",
    "    spike_indices = s[i]\n",
    "    spike_times = t[i]\n",
    "    thresh = thrd[i]\n",
    "\n",
    "    ax[col].plot(time, x, lw=1)\n",
    "    ax[col].scatter(spike_times, x[spike_indices], marker=\"x\", color=\"red\")\n",
    "    ax[col].axhline(thresh, color=\"gray\", ls=\"--\", lw=1)\n",
    "\n",
    "    ax[col].set_ylim((-400, 400))\n",
    "    ax[col].set_xlim((0.025, 0.075))\n",
    "    ax[col].set_ylabel(\"voltage (\\u03BCV)\")\n",
    "    ax[col].set_title(col, loc=\"left\")\n",
    "\n",
    "    if col != \"Ch4\":\n",
    "        ax[col].set_xticklabels([])\n",
    "    else:\n",
    "        ax[col].set_xlabel(\"time (s)\")"
   ]
  },
  {
   "cell_type": "markdown",
   "metadata": {},
   "source": [
    "## Task 3: Extract waveforms\n",
    "For later spike sorting we need the waveforms of all detected spikes. Extract the waveforms segments (1 ms) on all four channels for each spike time (as a result each spike is represented by a 4x30 element matrix). Implement this procedure in the function ```extract_waveforms()```. Plot (a) the first 100 spikes you detected and (b) the 100 largest spikes you detected. Are there a lot of very small spikes (likely noise) among your detected spikes? If so your threshold may be too low. Can you see obvious artifacts, not looking like spikes at all?\n",
    "\n",
    "*Grading: 2 pts*"
   ]
  },
  {
   "cell_type": "code",
   "execution_count": null,
   "metadata": {},
   "outputs": [],
   "source": [
    "def extract_waveforms(x: np.ndarray, s: np.ndarray) -> np.ndarray:\n",
    "    \"\"\"Extract spike waveforms at times s (given in samples)\n",
    "    from the filtered signal `xf` using a fixed window around the\n",
    "    times othrdf the spikes.\n",
    "\n",
    "    Parameters\n",
    "    ----------\n",
    "\n",
    "    x: np.array (n_samples, n_channels)\n",
    "        The filtered signal.\n",
    "\n",
    "    s: np.array, (n_spikes, n_channels)\n",
    "        Spike time in samples.\n",
    "\n",
    "\n",
    "    Return\n",
    "    ------\n",
    "\n",
    "    w: np.array, (n_spikes, length_window, n_channels)\n",
    "        Waveforms. (You don't have to get the exact same\n",
    "        shape as we noted here. It's just the shape of w\n",
    "        that can be easily retrieved via broadcasting.)\n",
    "\n",
    "\n",
    "    Notes\n",
    "    -----\n",
    "\n",
    "    More on Numpy Broadcasting\n",
    "    https://jakevdp.github.io/PythonDataScienceHandbook/02.05-computation-on-arrays-broadcasting.html\n",
    "\n",
    "    \"\"\"\n",
    "\n",
    "    # insert your code here\n",
    "\n",
    "    # ------------------------------\n",
    "    # extract spike waveforms (1 pt)\n",
    "    # ------------------------------\n",
    "\n",
    "    pass"
   ]
  },
  {
   "cell_type": "markdown",
   "metadata": {},
   "source": [
    "Plot first 100 spike waveforms"
   ]
  },
  {
   "cell_type": "code",
   "execution_count": null,
   "metadata": {},
   "outputs": [
    {
     "data": {
      "image/png": "[encoded data removed]",
      "text/plain": [
       "<Figure size 800x600 with 4 Axes>"
      ]
     },
     "metadata": {},
     "output_type": "display_data"
    }
   ],
   "source": [
    "mosaic = [\n",
    "    [\"Ch1\", \"Ch2\"],\n",
    "    [\"Ch3\", \"Ch4\"],\n",
    "]\n",
    "fig, ax = plt.subplot_mosaic(\n",
    "    mosaic=mosaic, figsize=(8, 6), layout=\"constrained\", dpi=100\n",
    ")\n",
    "\n",
    "# -------------------------------\n",
    "# plot first 100 spikes (0.5 pts)\n",
    "# -------------------------------\n",
    "\n",
    "# cols = [\"Ch1\", \"Ch2\", \"Ch3\", \"Ch4\"]\n",
    "for i, col in enumerate(cols):\n",
    "    ax[col].set_ylim((-500, 250))\n",
    "    ax[col].set_xlim((-0.33, 0.66))\n",
    "    ax[col].set_title(col, loc=\"left\")\n",
    "    if col == \"Ch3\" or col == \"Ch4\":\n",
    "        ax[col].set_xlabel(\"time (ms)\")\n",
    "    else:\n",
    "        ax[col].set_xticklabels([])\n",
    "    if col == \"Ch1\" or col == \"Ch3\":\n",
    "        ax[col].set_ylabel(\"voltage\")\n",
    "    else:\n",
    "        ax[col].set_yticklabels([])"
   ]
  },
  {
   "cell_type": "markdown",
   "metadata": {},
   "source": [
    "Plot largest 100 spike waveforms"
   ]
  },
  {
   "cell_type": "code",
   "execution_count": null,
   "metadata": {},
   "outputs": [
    {
     "data": {
      "image/png": "[encoded data removed]",
      "text/plain": [
       "<Figure size 800x600 with 4 Axes>"
      ]
     },
     "metadata": {},
     "output_type": "display_data"
    }
   ],
   "source": [
    "mosaic = [\n",
    "    [\"Ch1\", \"Ch2\"],\n",
    "    [\"Ch3\", \"Ch4\"],\n",
    "]\n",
    "fig, ax = plt.subplot_mosaic(\n",
    "    mosaic=mosaic, figsize=(8, 6), layout=\"constrained\", dpi=100\n",
    ")\n",
    "\n",
    "# -------------------------------------\n",
    "# plot the largest 100 spikes (0.5 pts)\n",
    "# -------------------------------------\n",
    "\n",
    "# cols = [\"Ch1\", \"Ch2\", \"Ch3\", \"Ch4\"]\n",
    "for i, col in enumerate(cols):\n",
    "    ax[col].set_ylim((-1000, 500))\n",
    "    ax[col].set_xlim((-0.33, 0.66))\n",
    "    ax[col].set_title(col, loc=\"left\")\n",
    "    if col == \"Ch3\" or col == \"Ch4\":\n",
    "        ax[col].set_xlabel(\"time (ms)\")\n",
    "    else:\n",
    "        ax[col].set_xticklabels([])\n",
    "    if col == \"Ch1\" or col == \"Ch3\":\n",
    "        ax[col].set_ylabel(\"voltage\")\n",
    "    else:\n",
    "        ax[col].set_yticklabels([])"
   ]
  },
  {
   "cell_type": "markdown",
   "metadata": {},
   "source": [
    "## Task 4: Extract features using PCA\n",
    "Compute the first three PCA features on each channel separately in ```extract_features()``` (2 pts). You can use a available PCA implementation or implement it yourself. After that, each spike is represented by a 12 element vector. Compute the fraction of variance captured by these three PCs.\n",
    "Plot scatter plots for all pairwise combinations of 1st PCs. Do you see clusters visually? \n",
    "\n",
    "*Grading: 2+1 pts*\n"
   ]
  },
  {
   "cell_type": "markdown",
   "metadata": {},
   "source": [
    "### PCA:\n",
    "- how to preprocess data?\n",
    "\n",
    "\n",
    "(https://stats.stackexchange.com/questions/385775/normalizing-vs-scaling-before-pca)"
   ]
  },
  {
   "cell_type": "code",
   "execution_count": null,
   "metadata": {},
   "outputs": [],
   "source": [
    "def extract_features(w: np.ndarray):\n",
    "    \"\"\"Extract features for spike sorting from the waveforms w.\n",
    "\n",
    "    Do PCA on the waveforms of each channel separately,\n",
    "    then concatenate the first three principal components\n",
    "    of each channels into one numpy array (`b`).\n",
    "\n",
    "\n",
    "    Parameter\n",
    "    ---------\n",
    "\n",
    "    w: np.ndarray, (n_spikes, length_window, n_channels)\n",
    "        Waveforms from Task 3.\n",
    "\n",
    "\n",
    "    Return\n",
    "    ------\n",
    "\n",
    "    b: np.ndarray, (n_spikes, n_feature)\n",
    "\n",
    "\n",
    "    Notes\n",
    "    -----\n",
    "\n",
    "    You can use PCA from sklearn.\n",
    "\n",
    "    More on PCA\n",
    "    https://jakevdp.github.io/PythonDataScienceHandbook/05.09-principal-component-analysis.html\n",
    "\n",
    "    \"\"\"\n",
    "\n",
    "    # insert your code here\n",
    "\n",
    "    # ---------------------------------------------\n",
    "    # obtain first 3 principle components (1.5 pts)\n",
    "    # ---------------------------------------------\n",
    "\n",
    "    # -----------------------------------------------------\n",
    "    # Print the fraction of variance explained (1 extra pt)\n",
    "    # -----------------------------------------------------\n",
    "\n",
    "    pass"
   ]
  },
  {
   "cell_type": "code",
   "execution_count": null,
   "metadata": {},
   "outputs": [
    {
     "data": {
      "text/plain": [
       "Text(0.5, 0.98, 'Pairwise 1st PCs')"
      ]
     },
     "execution_count": 14,
     "metadata": {},
     "output_type": "execute_result"
    },
    {
     "data": {
      "image/png": "[encoded data removed]",
      "text/plain": [
       "<Figure size 800x800 with 6 Axes>"
      ]
     },
     "metadata": {},
     "output_type": "display_data"
    }
   ],
   "source": [
    "mosaic = [\n",
    "    [\"Ch2 vs Ch1\", \".\", \".\"],\n",
    "    [\"Ch3 vs Ch1\", \"Ch3 vs Ch2\", \".\"],\n",
    "    [\"Ch4 vs Ch1\", \"Ch4 vs Ch2\", \"Ch4 vs Ch3\"],\n",
    "]\n",
    "fig, ax = plt.subplot_mosaic(\n",
    "    mosaic=mosaic, figsize=(8, 8), layout=\"constrained\", dpi=100\n",
    ")\n",
    "\n",
    "# indices of the 1st PC in `b`\n",
    "i = {\"Ch1\": 0, \"Ch2\": 3, \"Ch3\": 6, \"Ch4\": 9}\n",
    "\n",
    "for m in np.ravel(mosaic):\n",
    "    if m == \".\":\n",
    "        continue\n",
    "    y, x = m.split(\" vs \")\n",
    "\n",
    "    ax[m].set_xlabel(x)\n",
    "    ax[m].set_ylabel(y)\n",
    "    ax[m].set_xlim((-1500, 1500))\n",
    "    ax[m].set_ylim((-1500, 1500))\n",
    "    ax[m].set_xticks([])\n",
    "    ax[m].set_yticks([])\n",
    "\n",
    "fig.suptitle(\"Pairwise 1st PCs\", fontsize=20)"
   ]
  },
  {
   "cell_type": "code",
   "execution_count": null,
   "metadata": {},
   "outputs": [],
   "source": [
    "# # save data for the next Coding Lab\n",
    "\n",
    "# np.save(\"../data/nds_cl_1_features\", b)\n",
    "# np.save(\"../data/nds_cl_1_spiketimes_s\", s)\n",
    "# np.save(\"../data/nds_cl_1_spiketimes_t\", t)\n",
    "# np.save(\"../data/nds_cl_1_waveforms\", w)"
   ]
  }
 ],
 "metadata": {
  "anaconda-cloud": {},
  "kernelspec": {
   "display_name": "Python 3 (ipykernel)",
   "language": "python",
   "name": "python3"
  },
  "language_info": {
   "codemirror_mode": {
    "name": "ipython",
    "version": 3
   },
   "file_extension": ".py",
   "mimetype": "text/x-python",
   "name": "python",
   "nbconvert_exporter": "python",
   "pygments_lexer": "ipython3",
   "version": "3.11.2"
  },
  "nteract": {
   "version": "0.13.0"
  },
  "varInspector": {
   "cols": {
    "lenName": 16,
    "lenType": 16,
    "lenVar": 40
   },
   "kernels_config": {
    "python": {
     "delete_cmd_postfix": "",
     "delete_cmd_prefix": "del ",
     "library": "var_list.py",
     "varRefreshCmd": "print(var_dic_list())"
    },
    "r": {
     "delete_cmd_postfix": ") ",
     "delete_cmd_prefix": "rm(",
     "library": "var_list.r",
     "varRefreshCmd": "cat(var_dic_list()) "
    }
   },
   "types_to_exclude": [
    "module",
    "function",
    "builtin_function_or_method",
    "instance",
    "_Feature"
   ],
   "window_display": false
  }
 },
 "nbformat": 4,
 "nbformat_minor": 4
}
