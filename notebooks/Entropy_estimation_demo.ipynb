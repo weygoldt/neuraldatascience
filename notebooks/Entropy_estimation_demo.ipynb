{
 "cells": [
  {
   "cell_type": "code",
   "execution_count": 1,
   "metadata": {
    "collapsed": true
   },
   "outputs": [],
   "source": [
    "import numpy as np\n",
    "import matplotlib.pyplot as plt\n",
    "from est_entro import est_entro_JVHW, est_entro_MLE\n",
    "%matplotlib inline\n",
    "\n",
    "def entropy_true(p):\n",
    "    \"\"\"computes Shannon entropy H(p) in bits for the input discrete distribution.\n",
    "\n",
    "    This function returns a scalar entropy when the input distribution p is a\n",
    "    vector of probability masses, or returns in a row vector the columnwise\n",
    "    entropies of the input probability matrix p.\n",
    "    \"\"\"\n",
    "    validate_dist(p)\n",
    "    return -np.log2(p ** p).sum(axis=0)\n",
    "\n",
    "def validate_dist(p):\n",
    "    if np.imag(p).any() or np.isinf(p).any() or np.isnan(p).any() or (p < 0).any() or (p > 1).any():\n",
    "        raise ValueError('The probability elements must be real numbers between 0 and 1.')\n",
    "\n",
    "    eps = np.finfo(np.double).eps\n",
    "    if (np.abs(p.sum(axis=0) - 1) > np.sqrt(eps)).any():\n",
    "        raise ValueError('Sum of the probability elements must equal 1.')\n",
    "\n",
    "def randsmpl(p, m, n):\n",
    "    validate_dist(p)\n",
    "\n",
    "    edges = np.r_[0, p.cumsum()]\n",
    "    eps = np.finfo(np.double).eps\n",
    "    if np.abs(edges[-1] - 1) > np.sqrt(eps):\n",
    "        edges = edges / edges[-1]\n",
    "    edges[-1] = 1 + eps\n",
    "\n",
    "    return np.digitize(np.random.rand(m, n), edges)"
   ]
  },
  {
   "cell_type": "code",
   "execution_count": 2,
   "metadata": {
    "collapsed": false
   },
   "outputs": [
    {
     "name": "stdout",
     "output_type": "stream",
     "text": [
      "S = 100, n = 22\n"
     ]
    },
    {
     "ename": "FileNotFoundError",
     "evalue": "[Errno 2] No such file or directory: 'poly_coeff_entro.mat'",
     "output_type": "error",
     "traceback": [
      "\u001b[0;31m---------------------------------------------------------------------------\u001b[0m",
      "\u001b[0;31mFileNotFoundError\u001b[0m                         Traceback (most recent call last)",
      "File \u001b[0;32m/opt/homebrew/lib/python3.11/site-packages/scipy/io/matlab/_mio.py:39\u001b[0m, in \u001b[0;36m_open_file\u001b[0;34m(file_like, appendmat, mode)\u001b[0m\n\u001b[1;32m     38\u001b[0m \u001b[39mtry\u001b[39;00m:\n\u001b[0;32m---> 39\u001b[0m     \u001b[39mreturn\u001b[39;00m \u001b[39mopen\u001b[39;49m(file_like, mode), \u001b[39mTrue\u001b[39;00m\n\u001b[1;32m     40\u001b[0m \u001b[39mexcept\u001b[39;00m \u001b[39mOSError\u001b[39;00m \u001b[39mas\u001b[39;00m e:\n\u001b[1;32m     41\u001b[0m     \u001b[39m# Probably \"not found\"\u001b[39;00m\n",
      "\u001b[0;31mFileNotFoundError\u001b[0m: [Errno 2] No such file or directory: 'poly_coeff_entro.mat'",
      "\nDuring handling of the above exception, another exception occurred:\n",
      "\u001b[0;31mFileNotFoundError\u001b[0m                         Traceback (most recent call last)",
      "Cell \u001b[0;32mIn[2], line 23\u001b[0m\n\u001b[1;32m     20\u001b[0m true_S[i] \u001b[39m=\u001b[39m entropy_true(dist)\n\u001b[1;32m     21\u001b[0m samp \u001b[39m=\u001b[39m randsmpl(dist, \u001b[39mint\u001b[39m(n), mc_times)\n\u001b[0;32m---> 23\u001b[0m record_JVHW \u001b[39m=\u001b[39m est_entro_JVHW(samp)\n\u001b[1;32m     24\u001b[0m record_MLE \u001b[39m=\u001b[39m est_entro_MLE(samp)\n\u001b[1;32m     26\u001b[0m JVHW_err[i] \u001b[39m=\u001b[39m np\u001b[39m.\u001b[39mmean(np\u001b[39m.\u001b[39mabs(record_JVHW \u001b[39m-\u001b[39m true_S[i]))\n",
      "File \u001b[0;32m~/Documents/uni_tuebingen/neuraldatascience/notebooks/est_entro.py:30\u001b[0m, in \u001b[0;36mest_entro_JVHW\u001b[0;34m(samp)\u001b[0m\n\u001b[1;32m     28\u001b[0m \u001b[39mglobal\u001b[39;00m poly_entro\n\u001b[1;32m     29\u001b[0m \u001b[39mif\u001b[39;00m poly_entro \u001b[39mis\u001b[39;00m \u001b[39mNone\u001b[39;00m:\n\u001b[0;32m---> 30\u001b[0m     poly_entro \u001b[39m=\u001b[39m sio\u001b[39m.\u001b[39;49mloadmat(\u001b[39m'\u001b[39;49m\u001b[39mpoly_coeff_entro.mat\u001b[39;49m\u001b[39m'\u001b[39;49m)[\u001b[39m'\u001b[39m\u001b[39mpoly_entro\u001b[39m\u001b[39m'\u001b[39m]\n\u001b[1;32m     31\u001b[0m coeff \u001b[39m=\u001b[39m poly_entro[order\u001b[39m-\u001b[39m\u001b[39m1\u001b[39m, \u001b[39m0\u001b[39m][\u001b[39m0\u001b[39m]\n\u001b[1;32m     33\u001b[0m f \u001b[39m=\u001b[39m fingerprint(samp)\n",
      "File \u001b[0;32m/opt/homebrew/lib/python3.11/site-packages/scipy/io/matlab/_mio.py:225\u001b[0m, in \u001b[0;36mloadmat\u001b[0;34m(file_name, mdict, appendmat, **kwargs)\u001b[0m\n\u001b[1;32m     88\u001b[0m \u001b[39m\u001b[39m\u001b[39m\"\"\"\u001b[39;00m\n\u001b[1;32m     89\u001b[0m \u001b[39mLoad MATLAB file.\u001b[39;00m\n\u001b[1;32m     90\u001b[0m \n\u001b[0;32m   (...)\u001b[0m\n\u001b[1;32m    222\u001b[0m \u001b[39m    3.14159265+3.14159265j])\u001b[39;00m\n\u001b[1;32m    223\u001b[0m \u001b[39m\"\"\"\u001b[39;00m\n\u001b[1;32m    224\u001b[0m variable_names \u001b[39m=\u001b[39m kwargs\u001b[39m.\u001b[39mpop(\u001b[39m'\u001b[39m\u001b[39mvariable_names\u001b[39m\u001b[39m'\u001b[39m, \u001b[39mNone\u001b[39;00m)\n\u001b[0;32m--> 225\u001b[0m \u001b[39mwith\u001b[39;49;00m _open_file_context(file_name, appendmat) \u001b[39mas\u001b[39;49;00m f:\n\u001b[1;32m    226\u001b[0m     MR, _ \u001b[39m=\u001b[39;49m mat_reader_factory(f, \u001b[39m*\u001b[39;49m\u001b[39m*\u001b[39;49mkwargs)\n\u001b[1;32m    227\u001b[0m     matfile_dict \u001b[39m=\u001b[39;49m MR\u001b[39m.\u001b[39;49mget_variables(variable_names)\n",
      "File \u001b[0;32m/opt/homebrew/Cellar/python@3.11/3.11.4/Frameworks/Python.framework/Versions/3.11/lib/python3.11/contextlib.py:137\u001b[0m, in \u001b[0;36m_GeneratorContextManager.__enter__\u001b[0;34m(self)\u001b[0m\n\u001b[1;32m    135\u001b[0m \u001b[39mdel\u001b[39;00m \u001b[39mself\u001b[39m\u001b[39m.\u001b[39margs, \u001b[39mself\u001b[39m\u001b[39m.\u001b[39mkwds, \u001b[39mself\u001b[39m\u001b[39m.\u001b[39mfunc\n\u001b[1;32m    136\u001b[0m \u001b[39mtry\u001b[39;00m:\n\u001b[0;32m--> 137\u001b[0m     \u001b[39mreturn\u001b[39;00m \u001b[39mnext\u001b[39m(\u001b[39mself\u001b[39m\u001b[39m.\u001b[39mgen)\n\u001b[1;32m    138\u001b[0m \u001b[39mexcept\u001b[39;00m \u001b[39mStopIteration\u001b[39;00m:\n\u001b[1;32m    139\u001b[0m     \u001b[39mraise\u001b[39;00m \u001b[39mRuntimeError\u001b[39;00m(\u001b[39m\"\u001b[39m\u001b[39mgenerator didn\u001b[39m\u001b[39m'\u001b[39m\u001b[39mt yield\u001b[39m\u001b[39m\"\u001b[39m) \u001b[39mfrom\u001b[39;00m \u001b[39mNone\u001b[39m\n",
      "File \u001b[0;32m/opt/homebrew/lib/python3.11/site-packages/scipy/io/matlab/_mio.py:17\u001b[0m, in \u001b[0;36m_open_file_context\u001b[0;34m(file_like, appendmat, mode)\u001b[0m\n\u001b[1;32m     15\u001b[0m \u001b[39m@contextmanager\u001b[39m\n\u001b[1;32m     16\u001b[0m \u001b[39mdef\u001b[39;00m \u001b[39m_open_file_context\u001b[39m(file_like, appendmat, mode\u001b[39m=\u001b[39m\u001b[39m'\u001b[39m\u001b[39mrb\u001b[39m\u001b[39m'\u001b[39m):\n\u001b[0;32m---> 17\u001b[0m     f, opened \u001b[39m=\u001b[39m _open_file(file_like, appendmat, mode)\n\u001b[1;32m     18\u001b[0m     \u001b[39mtry\u001b[39;00m:\n\u001b[1;32m     19\u001b[0m         \u001b[39myield\u001b[39;00m f\n",
      "File \u001b[0;32m/opt/homebrew/lib/python3.11/site-packages/scipy/io/matlab/_mio.py:45\u001b[0m, in \u001b[0;36m_open_file\u001b[0;34m(file_like, appendmat, mode)\u001b[0m\n\u001b[1;32m     43\u001b[0m     \u001b[39mif\u001b[39;00m appendmat \u001b[39mand\u001b[39;00m \u001b[39mnot\u001b[39;00m file_like\u001b[39m.\u001b[39mendswith(\u001b[39m'\u001b[39m\u001b[39m.mat\u001b[39m\u001b[39m'\u001b[39m):\n\u001b[1;32m     44\u001b[0m         file_like \u001b[39m+\u001b[39m\u001b[39m=\u001b[39m \u001b[39m'\u001b[39m\u001b[39m.mat\u001b[39m\u001b[39m'\u001b[39m\n\u001b[0;32m---> 45\u001b[0m     \u001b[39mreturn\u001b[39;00m \u001b[39mopen\u001b[39;49m(file_like, mode), \u001b[39mTrue\u001b[39;00m\n\u001b[1;32m     46\u001b[0m \u001b[39melse\u001b[39;00m:\n\u001b[1;32m     47\u001b[0m     \u001b[39mraise\u001b[39;00m \u001b[39mOSError\u001b[39;00m(\n\u001b[1;32m     48\u001b[0m         \u001b[39m'\u001b[39m\u001b[39mReader needs file name or open file-like object\u001b[39m\u001b[39m'\u001b[39m\n\u001b[1;32m     49\u001b[0m     ) \u001b[39mfrom\u001b[39;00m \u001b[39me\u001b[39;00m\n",
      "\u001b[0;31mFileNotFoundError\u001b[0m: [Errno 2] No such file or directory: 'poly_coeff_entro.mat'"
     ]
    }
   ],
   "source": [
    "C = 1\n",
    "num = 15\n",
    "mc_times = 50  # Total number of Monte-Carlo trials for each alphabet size\n",
    "record_S = np.ceil(np.logspace(2, 6, num))\n",
    "record_n = np.ceil(C*record_S/np.log(record_S))\n",
    "\n",
    "true_S = np.zeros(num)\n",
    "JVHW_err = np.zeros(num)\n",
    "MLE_err = np.zeros(num)\n",
    "\n",
    "twonum = np.random.rand(2, 1)\n",
    "for i in range(num):\n",
    "    S = record_S[i]\n",
    "    n = record_n[i]\n",
    "    print(\"S = {0}, n = {1}\".format(int(S), int(n)))\n",
    "\n",
    "    dist = np.random.beta(twonum[0], twonum[1], int(S))\n",
    "    dist /= dist.sum()\n",
    "\n",
    "    true_S[i] = entropy_true(dist)\n",
    "    samp = randsmpl(dist, int(n), mc_times)\n",
    "\n",
    "    record_JVHW = est_entro_JVHW(samp)\n",
    "    record_MLE = est_entro_MLE(samp)\n",
    "\n",
    "    JVHW_err[i] = np.mean(np.abs(record_JVHW - true_S[i]))\n",
    "    MLE_err[i] = np.mean(np.abs(record_MLE - true_S[i]))\n",
    "\n",
    "plt.plot(record_S / record_n, JVHW_err, 'b-s', linewidth=2, markerfacecolor='b')\n",
    "plt.plot(record_S / record_n, MLE_err, 'r-.o', linewidth=2, markerfacecolor='r')\n",
    "plt.legend(['JVHW', 'MLE'], loc='upper left')\n",
    "plt.xlabel('S/n')\n",
    "plt.ylabel('Mean Absolute Error')\n",
    "plt.title('Entropy Estimation')\n",
    "plt.xlim(4, 14.5)\n",
    "plt.show()"
   ]
  }
 ],
 "metadata": {
  "kernelspec": {
   "display_name": "Python 3",
   "language": "python",
   "name": "python3"
  },
  "language_info": {
   "codemirror_mode": {
    "name": "ipython",
    "version": 3
   },
   "file_extension": ".py",
   "mimetype": "text/x-python",
   "name": "python",
   "nbconvert_exporter": "python",
   "pygments_lexer": "ipython3",
   "version": "3.11.4"
  }
 },
 "nbformat": 4,
 "nbformat_minor": 0
}
