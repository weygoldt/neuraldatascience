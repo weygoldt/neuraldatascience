{
 "cells": [
  {
   "attachments": {},
   "cell_type": "markdown",
   "metadata": {},
   "source": [
    "_Neural Data Science_\n",
    "\n",
    "Lecturer: Prof. Dr. Philipp Berens\n",
    "\n",
    "Tutors: Jonas Beck, Ziwei Huang, Rita González Márquez\n",
    "\n",
    "Summer term 2023\n",
    "\n",
    "Student names: *FILL IN YOUR NAMES HERE*\n",
    "\n",
    "# Coding Lab 2\n",
    "\n",
    "- __Data__: Use the saved data `nds_cl_1_*.npy` from Coding Lab 1. Or, if needed, download the data files ```nds_cl_1_*.npy``` from ILIAS and save it in the subfolder ```../data/```.\n",
    "- __Dependencies__: You don't have to use the exact versions of all the dependencies in this notebook, as long as they are new enough. But if you run \"Run All\" in Jupyter and the boilerplate code breaks, you probably need to upgrade them."
   ]
  },
  {
   "cell_type": "code",
   "execution_count": null,
   "metadata": {},
   "outputs": [
    {
     "name": "stdout",
     "output_type": "stream",
     "text": [
      "The jupyter_black extension is already loaded. To reload it, use:\n",
      "  %reload_ext jupyter_black\n",
      "The watermark extension is already loaded. To reload it, use:\n",
      "  %reload_ext watermark\n",
      "Last updated: 2023-04-28 09:43:04CEST\n",
      "\n",
      "Python implementation: CPython\n",
      "Python version       : 3.11.3\n",
      "IPython version      : 8.11.0\n",
      "\n",
      "sklearn: 0.0.post1\n",
      "\n",
      "matplotlib: 3.7.1\n",
      "scipy     : 1.10.1\n",
      "numpy     : 1.24.3\n",
      "\n",
      "Watermark: 2.3.1\n",
      "\n"
     ]
    }
   ],
   "source": [
    "import numpy as np\n",
    "import scipy as sp\n",
    "import matplotlib.pyplot as plt\n",
    "from sklearn.cluster import KMeans\n",
    "from __future__ import annotations\n",
    "\n",
    "%load_ext jupyter_black\n",
    "\n",
    "%load_ext watermark\n",
    "%watermark --time --date --timezone --updated --python --iversions --watermark -p sklearn"
   ]
  },
  {
   "cell_type": "code",
   "execution_count": null,
   "metadata": {},
   "outputs": [],
   "source": [
    "plt.style.use(\"../matplotlib_style.txt\")"
   ]
  },
  {
   "cell_type": "markdown",
   "metadata": {},
   "source": [
    "## Load data"
   ]
  },
  {
   "cell_type": "code",
   "execution_count": null,
   "metadata": {},
   "outputs": [],
   "source": [
    "# replace by path to your solutions\n",
    "b = np.load(\"../data/nds_cl_1_features.npy\")\n",
    "s = np.load(\"../data/nds_cl_1_spiketimes_s.npy\")\n",
    "w = np.load(\"../data/nds_cl_1_waveforms.npy\")\n",
    "np.random.seed(0)"
   ]
  },
  {
   "cell_type": "markdown",
   "metadata": {},
   "source": [
    "## Task 1: Generate toy data\n",
    "\n",
    "Sample 1000 data points from a two dimensional mixture of Gaussian model with three clusters  and the following parameters:\n",
    "\n",
    "$\\mu_1 = \\begin{bmatrix}0\\\\0\\end{bmatrix}, \\Sigma_1 = \\begin{bmatrix}1 & 0\\\\0 & 1\\end{bmatrix}, \\pi_1=0.3$\n",
    "\n",
    "$\\mu_2 = \\begin{bmatrix}5\\\\1\\end{bmatrix}, \\Sigma_2 = \\begin{bmatrix}2 & 1\\\\1 & 2\\end{bmatrix}, \\pi_2=0.5$\n",
    "\n",
    "$\\mu_3 = \\begin{bmatrix}0\\\\4\\end{bmatrix}, \\Sigma_3 = \\begin{bmatrix}1 & -0.5\\\\-0.5 & 1\\end{bmatrix}, \\pi_3=0.2$\n",
    "\n",
    "Plot the sampled data points and indicate in color the cluster each point came from. Plot the cluster means as well.\n",
    "\n",
    "*Grading: 1 pts*\n"
   ]
  },
  {
   "cell_type": "code",
   "execution_count": null,
   "metadata": {},
   "outputs": [],
   "source": [
    "def sample_data(\n",
    "    N: int, m: np.ndarray, S: np.ndarray, p: np.ndarray\n",
    ") -> tuple[np.ndarray, np.ndarray]:\n",
    "    \"\"\"Generate N samples from a Mixture of Gaussian distribution with\n",
    "    means m, covariances S and priors p.\n",
    "\n",
    "    Parameters\n",
    "    ----------\n",
    "\n",
    "    N: int\n",
    "        Number of samples\n",
    "\n",
    "    m: np.ndarray, (n_clusters, n_dims)\n",
    "        Means\n",
    "\n",
    "    S: np.ndarray, (n_clusters, n_dims, n_dims)\n",
    "        Covariances\n",
    "\n",
    "    p: np.ndarray, (n_clusters, )\n",
    "        Cluster weights / probablities\n",
    "\n",
    "    Returns\n",
    "    -------\n",
    "\n",
    "    labels: np.array, (n_samples, )\n",
    "        Grund truth labels.\n",
    "\n",
    "    x: np.array, (n_samples, n_dims)\n",
    "        Data points\n",
    "    \"\"\"\n",
    "\n",
    "    # insert your code here\n",
    "    \n",
    "\n",
    "    # ------------------------------------------------------\n",
    "    # draw labeled points from mixture of Gaussians (0.5 pt)\n",
    "    # ------------------------------------------------------\n",
    "    # return labels, x\n",
    "    pass"
   ]
  },
  {
   "cell_type": "code",
   "execution_count": null,
   "metadata": {},
   "outputs": [],
   "source": [
    "N = 1000  # total number of samples\n",
    "\n",
    "p = np.array([0.3, 0.5, 0.2])  # percentage of each cluster\n",
    "m = np.array([[0.0, 0.0], [5.0, 1.0], [0.0, 4.0]])  # means\n",
    "\n",
    "S1 = np.array([[1.0, 0.0], [0.0, 1.0]])\n",
    "S2 = np.array([[2.0, 1.0], [1.0, 2.0]])\n",
    "S3 = np.array([[1.0, -0.5], [-0.5, 1.0]])\n",
    "S = np.stack([S1, S2, S3])  # cov\n",
    "\n",
    "# labels, x = sample_data(N, m, S, p)"
   ]
  },
  {
   "cell_type": "code",
   "execution_count": null,
   "metadata": {},
   "outputs": [
    {
     "data": {
      "image/png": "[encoded data removed]",
      "text/plain": [
       "<Figure size 500x500 with 1 Axes>"
      ]
     },
     "metadata": {},
     "output_type": "display_data"
    }
   ],
   "source": [
    "# ----------------------------------------------\n",
    "# plot points from mixture of Gaussians (0.5 pt)\n",
    "# ----------------------------------------------\n",
    "\n",
    "fig, ax = plt.subplots(figsize=(5, 5))"
   ]
  },
  {
   "cell_type": "markdown",
   "metadata": {},
   "source": [
    "## Task 2: Implement a Gaussian mixture model\n",
    "\n",
    "Implement the EM algorithm to fit a Gaussian mixture model in `fit_mog()`.  Sort the data points by inferring their class labels from your mixture model (by using maximum a-posteriori classification). Fix the seed of the random number generator to ensure deterministic and reproducible behavior. Test it on the toy dataset specifying the correct number of clusters and make sure the code works correctly. Plot the data points from the toy dataset and indicate in color the cluster each point was assigned to by your model. How does the assignment compare to ground truth? If you run the algorithm multiple times, you will notice that some solutions provide suboptimal clustering solutions - depending on your initialization strategy.  \n",
    "\n",
    "*Grading: 4 pts*\n"
   ]
  },
  {
   "cell_type": "code",
   "execution_count": null,
   "metadata": {},
   "outputs": [],
   "source": [
    "def fit_mog(\n",
    "    x: np.ndarray, k: int, niters: int = 10, random_seed: int = 2046\n",
    ") -> tuple[np.ndarray]:\n",
    "    \"\"\"Fit Mixture of Gaussian model using EM algo.\n",
    "\n",
    "    Parameters\n",
    "    ----------\n",
    "\n",
    "    x: np.array, (n_samples, n_dims)\n",
    "        Input data\n",
    "\n",
    "    k: int\n",
    "        Number of clusters\n",
    "\n",
    "    niters: int\n",
    "        Maximal number of iterations.\n",
    "\n",
    "    random_seed: int\n",
    "        Random Seed\n",
    "\n",
    "\n",
    "    Returns\n",
    "    -------\n",
    "\n",
    "    labels: np.array, (n_samples)\n",
    "        Cluster labels\n",
    "\n",
    "    m: list or np.array, (n_clusters, n_dims)\n",
    "        Means\n",
    "\n",
    "    S: list or np.array, (n_clusters, n_dims, n_dims)\n",
    "        Covariances\n",
    "\n",
    "    p: list or np.array, (n_clusters, )\n",
    "        Cluster weights / probablities\n",
    "    \"\"\"\n",
    "\n",
    "    # fill in your code here\n",
    "\n",
    "    np.random.seed(random_seed)\n",
    "\n",
    "    # -----------\n",
    "    # init (1 pt)\n",
    "    # -----------\n",
    "\n",
    "    # -------------------------\n",
    "    # EM maximisation (2.5 pts)\n",
    "    # -------------------------\n",
    "\n",
    "    for step in range(niters):\n",
    "        continue\n",
    "        # E step\n",
    "        # Evaluate the posterior probablibities `r`\n",
    "        # using the current values of `m` and `S`\n",
    "\n",
    "        # M step\n",
    "        # Estimate new `m`, `S` and `p`\n",
    "\n",
    "    pass"
   ]
  },
  {
   "cell_type": "markdown",
   "metadata": {},
   "source": [
    "Run Mixture of Gaussian on toy data"
   ]
  },
  {
   "cell_type": "code",
   "execution_count": null,
   "metadata": {},
   "outputs": [],
   "source": [
    "# mog_labels, m, S, p = fit_mog(x, 3, random_seed=0)"
   ]
  },
  {
   "cell_type": "markdown",
   "metadata": {},
   "source": [
    "Plot toy data with cluster assignments and compare to original labels"
   ]
  },
  {
   "cell_type": "code",
   "execution_count": null,
   "metadata": {},
   "outputs": [],
   "source": [
    "mosaic = [[\"True\", \"MoG\"]]\n",
    "fig, ax = plt.subplot_mosaic(mosaic=mosaic, figsize=(8, 4), layout=\"constrained\")\n",
    "\n",
    "# -----------------\n",
    "# Add plot (0.5 pts)\n",
    "# -----------------"
   ]
  },
  {
   "attachments": {},
   "cell_type": "markdown",
   "metadata": {},
   "source": [
    "## Task 3: Model complexity\n",
    "A priori we do not know how many neurons we recorded. Extend your algorithm with an automatic procedure to select the appropriate number of mixture components (clusters). Base your decision on the Bayesian Information Criterion:\n",
    "\n",
    "$BIC = -2L+P \\log N,$\n",
    "\n",
    "where $L$ is the log-likelihood of the data under the best model, $P$ is the number of parameters of the model and $N$ is the number of data points. You want to minimize the quantity. Plot the BIC as a function of mixture components. What is the optimal number of clusters on the toy dataset?\n",
    "\n",
    "You can also use the BIC to make your algorithm robust against suboptimal solutions due to local minima. Start the algorithm multiple times and pick the best solutions for extra points. You will notice that this depends a lot on which initialization strategy you use.\n",
    "\n",
    "*Grading: 3 pts*\n",
    "\n"
   ]
  },
  {
   "cell_type": "code",
   "execution_count": null,
   "metadata": {},
   "outputs": [],
   "source": [
    "def mog_bic(\n",
    "    x: np.ndarray, m: np.ndarray, S: np.ndarray, p: np.ndarray\n",
    ") -> tuple[float, float]:\n",
    "    \"\"\"Compute the BIC for a fitted Mixture of Gaussian model\n",
    "\n",
    "    Parameters\n",
    "    ----------\n",
    "\n",
    "    x: np.array, (n_samples, n_dims)\n",
    "        Input data\n",
    "\n",
    "    m: np.array, (n_clusters, n_dims)\n",
    "        Means\n",
    "\n",
    "    S: np.array, (n_clusters, n_dims, n_dims)\n",
    "        Covariances\n",
    "\n",
    "    p: np.array, (n_clusters, )\n",
    "        Cluster weights / probablities\n",
    "\n",
    "    Return\n",
    "    ------\n",
    "\n",
    "    bic: float\n",
    "        BIC\n",
    "\n",
    "    LL: float\n",
    "        Log Likelihood\n",
    "    \"\"\"\n",
    "\n",
    "    # insert your code here\n",
    "\n",
    "    # -------------------------\n",
    "    # implement the BIC (1.5 pts)\n",
    "    # -------------------------\n",
    "\n",
    "    pass"
   ]
  },
  {
   "cell_type": "code",
   "execution_count": null,
   "metadata": {},
   "outputs": [],
   "source": [
    "# ---------------------------------------------------------------------------------------------------\n",
    "# Compute and plot the BIC for mixture models with different numbers of clusters (e.g., 2 - 6). (0.5 pts)\n",
    "# Make your algorithm robust against local minima. (0.5 pts) and plot the result (0.5 pts)\n",
    "# ---------------------------------------------------------------------------------------------------\n",
    "\n",
    "K = range(2, 7)\n",
    "num_seeds = 10\n",
    "\n",
    "BIC = np.zeros((num_seeds, len(K)))\n",
    "LL = np.zeros((num_seeds, len(K)))\n",
    "\n",
    "# run mog and BIC multiple times here"
   ]
  },
  {
   "cell_type": "code",
   "execution_count": null,
   "metadata": {},
   "outputs": [],
   "source": [
    "fig, ax = plt.subplots(figsize=(4, 4))\n",
    "# plot BIC"
   ]
  },
  {
   "cell_type": "markdown",
   "metadata": {},
   "source": [
    "## Task 4: Spike sorting using Mixture of Gaussian \n",
    "Run the full algorithm on your set of extracted features (including model complexity selection). Plot the BIC as a function of the number of mixture components on the real data. For the best model, make scatter plots of the first PCs on all four channels (6 plots). Color-code each data point according to its class label in the model with the optimal number of clusters. In addition, indicate the position (mean) of the clusters in your plot. \n",
    "\n",
    "*Grading: 3 pts*\n"
   ]
  },
  {
   "cell_type": "code",
   "execution_count": null,
   "metadata": {},
   "outputs": [],
   "source": [
    "# ------------------------------------------------------------------------------------------\n",
    "# Select the model that best represents the data according to the BIC (include plot) (1 pt)\n",
    "# ------------------------------------------------------------------------------------------\n",
    "\n",
    "K = np.arange(2, 16)\n",
    "num_seeds = 5\n",
    "\n",
    "BIC = np.zeros((num_seeds, len(K)))\n",
    "LL = np.zeros((num_seeds, len(K)))"
   ]
  },
  {
   "cell_type": "code",
   "execution_count": null,
   "metadata": {},
   "outputs": [],
   "source": [
    "fig, ax = plt.subplots(figsize=(4, 4))\n",
    "\n",
    "# plot BIC"
   ]
  },
  {
   "cell_type": "markdown",
   "metadata": {},
   "source": [
    "Refit model with lowest BIC and plot data points"
   ]
  },
  {
   "cell_type": "code",
   "execution_count": null,
   "metadata": {},
   "outputs": [
    {
     "name": "stdout",
     "output_type": "stream",
     "text": [
      "lowest BIC: # cluster = 2\n"
     ]
    }
   ],
   "source": [
    "random_seed, kk = np.where(BIC == BIC.min())\n",
    "random_seed = random_seed[0]\n",
    "kk = kk[0]\n",
    "print(f\"lowest BIC: # cluster = {K[kk]}\")\n",
    "# a, m, S, p = fit_mog(b, K[kk], random_seed=random_seed)"
   ]
  },
  {
   "cell_type": "code",
   "execution_count": null,
   "metadata": {},
   "outputs": [],
   "source": [
    "# -------------------------------------------------------------------------------------\n",
    "# Create scatterplots of the first PCs under the best model for all 4 channels. (2 pts)\n",
    "# -------------------------------------------------------------------------------------\n",
    "\n",
    "\n",
    "mosaic = [\n",
    "    [\"Ch2 vs Ch1\", \".\", \".\"],\n",
    "    [\"Ch3 vs Ch1\", \"Ch3 vs Ch2\", \".\"],\n",
    "    [\"Ch4 vs Ch1\", \"Ch4 vs Ch2\", \"Ch4 vs Ch3\"],\n",
    "]\n",
    "fig, ax = plt.subplot_mosaic(mosaic=mosaic, figsize=(8, 8), layout=\"constrained\")"
   ]
  },
  {
   "attachments": {},
   "cell_type": "markdown",
   "metadata": {},
   "source": [
    "### Task 5: Cluster separation\n",
    "\n",
    "Implement linear discriminant analysis to visualize how well each cluster is separated from its neighbors in the high-dimensional space in the function `separation()`. Project the spikes of each pair of clusters onto the axis that optimally separates those two clusters. \n",
    "\n",
    "Plot a matrix with pairwise separation plots, showing the histogram of the points in both clusters projected on the axis best separating the clusters (as shown in the lecture). *Hint:* Since Python 3.5+, matrix multiplications can be compactely written as `x@y`.\n",
    "\n",
    "*Grading: 4 pts*\n"
   ]
  },
  {
   "cell_type": "code",
   "execution_count": null,
   "metadata": {},
   "outputs": [],
   "source": [
    "def separation(\n",
    "    b: np.ndarray,\n",
    "    m: np.ndarray,\n",
    "    S: np.ndarray,\n",
    "    p: np.ndarray,\n",
    "    assignment: np.ndarray,\n",
    "    nbins: int = 50,\n",
    "):\n",
    "    \"\"\"Calculate cluster separation by LDA.\n",
    "\n",
    "    proj, bins = separation(b, m, S, p, assignment)\n",
    "    projects the data on the LDA axis for all pairs of clusters. The result\n",
    "    is normalized such that the left (i.e. first) cluster has\n",
    "    zero mean and unit variances. The LDA axis is estimated from the model.\n",
    "    ---\n",
    "\n",
    "    Parameters\n",
    "    ----------\n",
    "    b: np.array, (n_spikes, n_features)\n",
    "        Features.\n",
    "\n",
    "    m: np.array, (n_clusters, n_features)\n",
    "        Means.\n",
    "\n",
    "    S: np.array, (n_clusters, n_features, n_features)\n",
    "        Covariance.\n",
    "\n",
    "    p: np.array, (n_clusters, )\n",
    "        Cluster weight.\n",
    "\n",
    "    assignment: np.array, (n_spikes, )\n",
    "        Cluster assignments / labels for each spike\n",
    "\n",
    "    nbins: int\n",
    "        Number of bins in a lda histogram.\n",
    "\n",
    "\n",
    "    Returns\n",
    "    -------\n",
    "\n",
    "    proj: np.array, (n_bins, n_clusters, n_clusters)\n",
    "        computed lda histo# Comparing the cells in particular\n",
    "\n",
    "    bins: np.array, (n_bins)\n",
    "        bin times relative to center    #bins x 1\n",
    "    \"\"\"\n",
    "\n",
    "    # insert your code here\n",
    "\n",
    "    # ---------------------------------------------------------------------\n",
    "    # compute the optimal separating axes for each pair of clusters (2 pts)\n",
    "    # ---------------------------------------------------------------------\n",
    "\n",
    "    # -------------------------------------------\n",
    "    # normalise according to first cluster (1 pt)\n",
    "    # -------------------------------------------\n",
    "\n",
    "    # --------------------------------------\n",
    "    # plot histograms on optimal axis (1 pt)\n",
    "    # --------------------------------------\n",
    "\n",
    "    return proj, bins"
   ]
  },
  {
   "cell_type": "code",
   "execution_count": null,
   "metadata": {},
   "outputs": [],
   "source": [
    "# proj, bins = separation(b, m, S, p, a)"
   ]
  }
 ],
 "metadata": {
  "kernelspec": {
   "display_name": "python3",
   "language": "python",
   "name": "python3"
  }
 },
 "nbformat": 4,
 "nbformat_minor": 4
}
