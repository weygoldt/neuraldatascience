{
 "cells": [
  {
   "attachments": {},
   "cell_type": "markdown",
   "metadata": {},
   "source": [
    "_Neural Data Analysis_\n",
    "\n",
    "Lecturer: Prof. Dr. Philipp Berens\n",
    "\n",
    "Tutors: Jonas Beck, Ziwei Huang, Rita González Márquez\n",
    "\n",
    "Summer term 2023\n",
    "\n",
    "Name: FILL IN YOUR NAMES HERE\n",
    "\n",
    "# Coding Lab 5\n",
    "\n"
   ]
  },
  {
   "cell_type": "code",
   "execution_count": 14,
   "metadata": {},
   "outputs": [],
   "source": [
    "import matplotlib.pyplot as plt\n",
    "import numpy as np\n",
    "import scipy.optimize as opt\n",
    "import scipy.io as io\n",
    "\n",
    "%matplotlib inline\n",
    "\n",
    "plt.style.use(\"../matplotlib_style.txt\")"
   ]
  },
  {
   "attachments": {},
   "cell_type": "markdown",
   "metadata": {},
   "source": [
    "## Task 1: Fit RF on simulated data\n",
    "\n",
    "We will start  with toy data generated from an LNP model neuron to make sure everything works right. The model LNP neuron consists of one Gaussian linear filter, an exponential nonlinearity and a Poisson spike count generator. We look at it in discrete time with time bins of width $\\delta t$. The model is:\n",
    "\n",
    "$$\n",
    "c_t \\sim Poisson(r_t)\\\\\n",
    "r_t = \\exp(w^T s_t) \\cdot \\Delta t \\cdot R\n",
    "$$\n",
    "\n",
    "Here, $c_t$ is the spike count in time window $t$ of length $\\Delta t$, $s_t$ is the stimulus and $w$ is the receptive field of the neuron. The receptive field variable `w` is 15 × 15 pixels and normalized to $||w||=1$. A stimulus frame is a 15 × 15 pixel image, for which we use uncorrelated checkerboard noise. R can be used to bring the firing rate into the right regime (e.g. by setting $R=50$).      \n",
    "\n",
    "For computational ease, we reformat the stimulus and the receptive field in a 225 by 1 array. The function ```sample_lnp``` can be used to generate data from this model. It returns a spike count vector `c` with samples from the model (dimensions: 1 by nT = $T/\\Delta t$), a stimulus matrix `s` (dimensions: 225 × nT) and the mean firing rate `r` (dimensions: nT × 1). \n",
    "\n",
    "Here we assume that the receptive field influences the spike count instantaneously just as in the above equations. Implement a Maximum Likelihood approach to fit the receptive field. \n",
    "\n",
    "To this end simplify and implement the log-likelihood function $L(w)$ and its gradient $\\frac{L(w)}{dw}$ with respect to $w$ (`negloglike_lnp`). The log-likelihood of the model is\n",
    "$$L(w) = \\log \\prod_t \\frac{r_t^{c_t}}{c_t!}\\exp(-r_t).$$\n",
    "\n",
    "Plot the true receptive field, a stimulus frame, the spike counts and the estimated receptive field. \n",
    "\n",
    "*Grading: 2 pts (calculations) + 3 pts (implementation)*\n"
   ]
  },
  {
   "attachments": {},
   "cell_type": "markdown",
   "metadata": {},
   "source": [
    "### Calculations\n",
    "_You can add your calculations in_ $\\LaTeX$ _here_.\n",
    "\n",
    "$$L(\\omega) = \\log(\\prod_t \\frac{r_t^{c_t}}{c_t!}\\exp(-r_t))$$\n",
    "$$with\\: \\log(ab) = log(a) + log(b), \\: a = \\frac{r_t^{c_t}}{c_t!},\\: b = \\exp(-r_t)$$\n",
    "$$L(\\omega) = \\sum_t \\log(\\frac{r_t^{c_t}}{c_t!})+\\log(\\exp(-r_t))$$\n",
    "$$L(\\omega) = \\sum_t \\log(r_t^{c_t})-\\log(c_t!)-r_t$$ \n",
    "$$with \\: r_t = \\exp(w^T s_t) \\cdot \\Delta t \\cdot R$$\n",
    "$$ L(\\omega) = \\sum_t \\log((\\exp(w^T s_t) \\cdot \\Delta t \\cdot R)^{c_t})-\\log(c_t!)-\\exp(w^T s_t) \\cdot \\Delta t \\cdot R$$\n",
    "\n",
    "derivative of $L(\\omega)$ with respect to $\\omega$ can be devided into three parts:\n",
    "the first part yields:\n",
    "$$\\frac{dL(\\omega)}{d\\omega} = \\log((\\exp(w^T s_t) \\cdot \\Delta t \\cdot R)^{c_t})$$\n",
    "$$\\frac{dL(\\omega)}{d\\omega} = c_t  s_t$$\n",
    "the second part yields:\n",
    "$$\\frac{dL(\\omega)}{d\\omega} = -\\log(c_t!)$$\n",
    "$$\\frac{dL(\\omega)}{d\\omega} = 0$$\n",
    "the third part yields:\n",
    "$$\\frac{dL(\\omega)}{d\\omega} = -\\exp(w^T s_t) \\cdot \\Delta t \\cdot R$$\n",
    "$$\\frac{dL(\\omega)}{d\\omega} = -s_t \\exp(w^T s_t) \\cdot \\Delta t \\cdot R$$\n",
    "combining the three parts yields:\n",
    "$$\\frac{dL(\\omega)}{d\\omega} = \\sum_t c_t  s_t -s_t \\exp(w^T s_t) \\cdot \\Delta t \\cdot R$$\n",
    "$$\\frac{dL(\\omega)}{d\\omega} = \\sum_t s_t (c_t - \\exp(w^T s_t) \\cdot \\Delta t \\cdot R)$$"
   ]
  },
  {
   "cell_type": "markdown",
   "metadata": {},
   "source": []
  },
  {
   "cell_type": "markdown",
   "metadata": {},
   "source": [
    "### Generate data"
   ]
  },
  {
   "cell_type": "code",
   "execution_count": 15,
   "metadata": {},
   "outputs": [
    {
     "data": {
      "text/plain": [
       "Text(0.5, 1.0, 'Gaussian RF')"
      ]
     },
     "execution_count": 15,
     "metadata": {},
     "output_type": "execute_result"
    },
    {
     "data": {
      "image/png": "[encoded data removed]",
      "text/plain": [
       "<Figure size 500x500 with 1 Axes>"
      ]
     },
     "metadata": {},
     "output_type": "display_data"
    }
   ],
   "source": [
    "def gen_gauss_rf(D, width, center=(0,0)):\n",
    "    \n",
    "    sz = (D-1)/2\n",
    "    x, y = np.meshgrid(np.arange(-sz, sz + 1), np.arange(-sz, sz + 1))\n",
    "    x = x + center[0]\n",
    "    y = y + center[1]\n",
    "    w = np.exp(- (x ** 2/width + y ** 2 / width))\n",
    "    w = w / np.sum(w.flatten())\n",
    "    \n",
    "    return w\n",
    "\n",
    "w = gen_gauss_rf(15,7,(1,1))\n",
    "\n",
    "vlim = np.max(np.abs(w))\n",
    "fig, ax = plt.subplots(1,1,figsize=(5,5))\n",
    "ax.imshow(w, cmap='bwr', vmin=-vlim, vmax=vlim)\n",
    "ax.set_title('Gaussian RF')"
   ]
  },
  {
   "cell_type": "code",
   "execution_count": 16,
   "metadata": {},
   "outputs": [],
   "source": [
    "def sample_lnp(w, nT, dt, R, v):\n",
    "    \"\"\"Generate samples from an instantaneous LNP model neuron with\n",
    "    receptive field kernel w.\n",
    "\n",
    "    Parameters\n",
    "    ----------\n",
    "\n",
    "    w: np.array, (Dx * Dy, )\n",
    "        (flattened) receptive field kernel.\n",
    "\n",
    "    nT: int\n",
    "        number of time steps\n",
    "\n",
    "    dt: float\n",
    "        duration of a frame in s\n",
    "\n",
    "    R: float\n",
    "        rate parameter\n",
    "\n",
    "    v: float\n",
    "        variance of the stimulus\n",
    "\n",
    "    Returns\n",
    "    -------\n",
    "\n",
    "    c: np.array, (nT, )\n",
    "        sampled spike counts in time bins\n",
    "\n",
    "    r: np.array, (nT, )\n",
    "        mean rate in time bins\n",
    "\n",
    "    s: np.array, (Dx * Dy, nT)\n",
    "        stimulus frames used\n",
    "\n",
    "    Note\n",
    "    ----\n",
    "\n",
    "    See equations in task description above for a precise definition\n",
    "    of the individual parameters.\n",
    "    $$\n",
    "    c_t \\sim Poisson(r_t)\\\\\n",
    "    r_t = \\exp(w^T s_t) \\cdot \\Delta t \\cdot R\n",
    "    $$\n",
    "\n",
    "    \"\"\"\n",
    "\n",
    "    np.random.seed(10) \n",
    "    stimulus = np.random.choice([0,1], (w.shape[0], nT))\n",
    "    stimulus = stimulus * np.sqrt(v)\n",
    "    \n",
    "    mean_rate = np.exp(w.T @ stimulus) * dt * R\n",
    "    spike_counts = np.random.poisson(mean_rate)  \n",
    "\n",
    "    return spike_counts, mean_rate , stimulus"
   ]
  },
  {
   "cell_type": "code",
   "execution_count": 17,
   "metadata": {},
   "outputs": [
    {
     "name": "stdout",
     "output_type": "stream",
     "text": [
      "(225,)\n",
      "(100000,) (100000,) (225, 100000)\n",
      "(15, 15, 100000)\n"
     ]
    }
   ],
   "source": [
    "D = 15     # number of pixels\n",
    "nT = 100000  # number of time bins\n",
    "dt = 0.1   # bins of 100 ms\n",
    "R = 50     # firing rate in Hz \n",
    "v = 5      # stimulus variance\n",
    "\n",
    "w = gen_gauss_rf(D,7,(1,1))\n",
    "w = w.flatten()\n",
    "print(w.shape)\n",
    "\n",
    "c, r, s = sample_lnp(w, nT, dt, R, v)\n",
    "print(c.shape, r.shape, s.shape,)\n",
    "sreshape = s.reshape((D,D,nT))\n",
    "print(sreshape.shape)"
   ]
  },
  {
   "cell_type": "markdown",
   "metadata": {},
   "source": [
    "Plot the responses of the cell."
   ]
  },
  {
   "cell_type": "code",
   "execution_count": 18,
   "metadata": {},
   "outputs": [
    {
     "data": {
      "text/plain": [
       "Text(0.5, 1.0, 'Stimulus frames')"
      ]
     },
     "execution_count": 18,
     "metadata": {},
     "output_type": "execute_result"
    }
   ],
   "source": [
    "%matplotlib qt6\n",
    "\n",
    "mosaic = \"ABC\"\n",
    "\n",
    "fig, ax = plt.subplot_mosaic(mosaic=mosaic, figsize=(15,4))\n",
    "ax[\"A\"].plot(c)\n",
    "ax[\"A\"].set_title(\"Spike counts\")\n",
    "ax[\"B\"].plot(r)\n",
    "ax[\"B\"].set_title(\"Mean rate\")\n",
    "\n",
    "ax[\"C\"].imshow(sreshape[:,:,0], cmap='bwr')\n",
    "ax[\"C\"].set_title(\"Stimulus frames\")\n",
    "\n",
    "# plot the stimulus grid only for one frame"
   ]
  },
  {
   "cell_type": "markdown",
   "metadata": {},
   "source": [
    "### Implementation \n",
    "\n",
    "Before you run your optimizer, make sure the gradient is correct. The helper function `check_grad` in `scipy.optimize` can help you do that. This package also has suitable functions for optimization. If you generate a large number of  samples, the fitted receptive field will look more similar to the true receptive field. With more samples, the optimization takes longer, however."
   ]
  },
  {
   "cell_type": "code",
   "execution_count": 19,
   "metadata": {},
   "outputs": [
    {
     "name": "stdout",
     "output_type": "stream",
     "text": [
      "277738.56652510306 (225,)\n"
     ]
    }
   ],
   "source": [
    "def L_omega(x, c, s, dt=0.1, R=50):\n",
    "  '''Implements the negative (!) log-likelihood of the LNP model and its\n",
    "  gradient with respect to the receptive field w.\n",
    "\n",
    "  $$ L(\\omega) = \\sum_t \\log(\\exp(w^T s_t) \\cdot \\Delta t \\cdot R)^{c_t}-\\log(c_t!)-\\exp(w^T s_t) \\cdot \\Delta t \\cdot R$$\n",
    "\n",
    "  Parameters\n",
    "  ----------\n",
    "\n",
    "  x: np.array, (Dx * Dy, )\n",
    "    current receptive field \n",
    "\n",
    "  c: np.array, (nT, )\n",
    "    spike counts \n",
    "\n",
    "  s: np.array, (Dx * Dy, nT)\n",
    "    stimulus matrix\n",
    "\n",
    "\n",
    "  Returns\n",
    "  -------\n",
    "\n",
    "  f: float\n",
    "    function value of the negative log likelihood at x\n",
    "\n",
    "  '''\n",
    "  return - np.sum(np.log((np.exp(x.T @ s) * dt * R) ** c) - np.log([float(np.math.factorial(int(c_single))) for c_single in c]) - np.exp(x.T @ s) * dt * R)\n",
    "\n",
    "def dL_omega(x, c, s, dt=0.1, R=50):\n",
    "  '''Implements the negative (!) log-likelihood of the LNP model and its\n",
    "  gradient with respect to the receptive field w.\n",
    "\n",
    "  $$ L(\\omega) = \\sum_t \\log(\\exp(w^T s_t) \\cdot \\Delta t \\cdot R)^{c_t}-\\log(c_t!)-\\exp(w^T s_t) \\cdot \\Delta t \\cdot R$$\n",
    "\n",
    "  Parameters\n",
    "  ----------\n",
    "\n",
    "  x: np.array, (Dx * Dy, )\n",
    "    current receptive field \n",
    "\n",
    "  c: np.array, (nT, )\n",
    "    spike counts \n",
    "\n",
    "  s: np.array, (Dx * Dy, nT)\n",
    "    stimulus matrix\n",
    "\n",
    "\n",
    "  Returns\n",
    "  -------\n",
    "  df: np.array, (Dx * Dy, )\n",
    "    gradient of the negative log likelihood with respect to x \n",
    "  '''\n",
    "  return - np.sum(s * (c - np.exp(x.T @ s) * dt * R), axis=1)\n",
    "\n",
    "f = L_omega(w, c, s, dt, R)\n",
    "df = dL_omega(w, c, s, dt, R)\n",
    "print(f, df.shape)\n"
   ]
  },
  {
   "attachments": {},
   "cell_type": "markdown",
   "metadata": {},
   "source": [
    "$$ L(\\omega) = \\sum_t \\log((\\exp(w^T s_t) \\cdot \\Delta t \\cdot R)^{c_t})-\\log(c_t!)-\\exp(w^T s_t) \\cdot \\Delta t \\cdot R$$\n",
    "$$\\frac{dL(\\omega)}{d\\omega} = \\sum_t s_t (c_t - \\exp(w^T s_t) \\cdot \\Delta t \\cdot R)$$\n"
   ]
  },
  {
   "cell_type": "markdown",
   "metadata": {},
   "source": [
    "Fit receptive field maximizing the log likelihood"
   ]
  },
  {
   "cell_type": "code",
   "execution_count": 20,
   "metadata": {},
   "outputs": [
    {
     "name": "stdout",
     "output_type": "stream",
     "text": [
      "0.47003714614849923\n"
     ]
    },
    {
     "name": "stderr",
     "output_type": "stream",
     "text": [
      "/var/folders/6f/4s63gb612m185fbsprljhfmh0000gn/T/ipykernel_22366/1600437480.py:27: RuntimeWarning: overflow encountered in exp\n",
      "  return - np.sum(np.log((np.exp(x.T @ s) * dt * R) ** c) - np.log([float(np.math.factorial(int(c_single))) for c_single in c]) - np.exp(x.T @ s) * dt * R)\n",
      "/var/folders/6f/4s63gb612m185fbsprljhfmh0000gn/T/ipykernel_22366/1600437480.py:27: RuntimeWarning: overflow encountered in multiply\n",
      "  return - np.sum(np.log((np.exp(x.T @ s) * dt * R) ** c) - np.log([float(np.math.factorial(int(c_single))) for c_single in c]) - np.exp(x.T @ s) * dt * R)\n",
      "/var/folders/6f/4s63gb612m185fbsprljhfmh0000gn/T/ipykernel_22366/1600437480.py:27: RuntimeWarning: overflow encountered in power\n",
      "  return - np.sum(np.log((np.exp(x.T @ s) * dt * R) ** c) - np.log([float(np.math.factorial(int(c_single))) for c_single in c]) - np.exp(x.T @ s) * dt * R)\n",
      "/var/folders/6f/4s63gb612m185fbsprljhfmh0000gn/T/ipykernel_22366/1600437480.py:27: RuntimeWarning: divide by zero encountered in log\n",
      "  return - np.sum(np.log((np.exp(x.T @ s) * dt * R) ** c) - np.log([float(np.math.factorial(int(c_single))) for c_single in c]) - np.exp(x.T @ s) * dt * R)\n",
      "/var/folders/6f/4s63gb612m185fbsprljhfmh0000gn/T/ipykernel_22366/1600437480.py:27: RuntimeWarning: invalid value encountered in subtract\n",
      "  return - np.sum(np.log((np.exp(x.T @ s) * dt * R) ** c) - np.log([float(np.math.factorial(int(c_single))) for c_single in c]) - np.exp(x.T @ s) * dt * R)\n",
      "/opt/homebrew/lib/python3.11/site-packages/numpy/core/fromnumeric.py:86: RuntimeWarning: invalid value encountered in reduce\n",
      "  return ufunc.reduce(obj, axis, dtype, out, **passkwargs)\n"
     ]
    },
    {
     "name": "stdout",
     "output_type": "stream",
     "text": [
      "Optimization terminated successfully    (Exit mode 0)\n",
      "            Current function value: 277633.0970494101\n",
      "            Iterations: 17\n",
      "            Function evaluations: 121\n",
      "            Gradient evaluations: 17\n",
      "()\n",
      "(225,)\n"
     ]
    }
   ],
   "source": [
    "err = opt.check_grad(L_omega, dL_omega, w, c, s, dt, R)\n",
    "print(err)\n",
    "\n",
    "# insert your code here \n",
    "res = opt.minimize(L_omega, x0=w, args=(c, s, dt, R), jac=dL_omega, method='SLSQP', options={'disp': True, 'maxiter': 1000})\n",
    "print(np.shape(res))\n",
    "print(res.x.shape)\n",
    "# ------------------------------------------\n",
    "# Estimate the receptive field by maximizing\n",
    "# the log-likelihood (or more commonly, \n",
    "# minimizing the negative log-likelihood).\n",
    "# \n",
    "# Tips: use scipy.optimize.minimize(). (1 pt)\n",
    "# ------------------------------------------\n",
    "\n",
    "\n"
   ]
  },
  {
   "cell_type": "code",
   "execution_count": 21,
   "metadata": {},
   "outputs": [
    {
     "data": {
      "text/plain": [
       "Text(0.5, 1.0, 'Estimated RF')"
      ]
     },
     "execution_count": 21,
     "metadata": {},
     "output_type": "execute_result"
    }
   ],
   "source": [
    "# insert your code here \n",
    "\n",
    "# ------------------------------------\n",
    "# Plot the ground truth and estimated \n",
    "# `w` side by side. (0.5 pts)\n",
    "# ------------------------------------\n",
    "vlim = np.max(np.abs(w))\n",
    "mosaic = [[\"True\", \"Estimated\"]]\n",
    "fig, ax = plt.subplot_mosaic(mosaic=mosaic, figsize=(12,5), sharey=True,)\n",
    "# plot grid\n",
    "ax[\"True\"].set_xticks(np.arange(0, D, 1))\n",
    "ax[\"True\"].set_yticks(np.arange(0, D, 1))\n",
    "ax[\"Estimated\"].set_xticks(np.arange(0, D, 1))\n",
    "ax[\"Estimated\"].set_yticks(np.arange(0, D, 1))\n",
    "ax[\"True\"].set_xlabel(\"x\")\n",
    "ax[\"True\"].set_ylabel(\"y\")\n",
    "ax[\"Estimated\"].set_xlabel(\"x\")\n",
    "ax[\"Estimated\"].set_ylabel(\"y\")\n",
    "# plot vlines and hlines\n",
    "ax[\"True\"].vlines(np.arange(0, D, 1), ymin=0, ymax=D, color='k', linewidth=0.5)\n",
    "ax[\"True\"].hlines(np.arange(0, D, 1), xmin=0, xmax=D, color='k', linewidth=0.5)\n",
    "ax[\"Estimated\"].vlines(np.arange(0, D, 1), ymin=0, ymax=D, color='k', linewidth=0.5)\n",
    "ax[\"Estimated\"].hlines(np.arange(0, D, 1), xmin=0, xmax=D, color='k', linewidth=0.5)\n",
    "\n",
    "ax[\"True\"].imshow(w.reshape((D,D)), cmap='bwr', vmin=-vlim, vmax=vlim)\n",
    "ax[\"True\"].set_title(\"True RF\") \n",
    "ax[\"Estimated\"].imshow(res.x.reshape((D,D)), cmap='bwr', vmin=-vlim, vmax=vlim)\n",
    "ax[\"Estimated\"].set_title(\"Estimated RF\")\n",
    "# make sure to add a colorbar. 'bwr' is a reasonable choice for the cmap."
   ]
  },
  {
   "attachments": {},
   "cell_type": "markdown",
   "metadata": {},
   "source": [
    "## Task 2: Apply to real neuron\n",
    "\n",
    "Download the dataset for this task from Ilias (`nds_cl_5_data.mat`). It contains a stimulus matrix (`s`) in the same format you used before and the spike times. In addition, there is an array called `trigger` which contains the times at which the stimulus frames were swapped.\n",
    "\n",
    "* Generate an array of spike counts at the same temporal resolution as the stimulus frames\n",
    "* Fit the receptive field with time lags of 0 to 4 frames. Fit them one lag at a time (the ML fit is very sensitive to the number of parameters estimated and will not produce good results if you fit the full space-time receptive field for more than two time lags at once). \n",
    "* Plot the resulting filters\n",
    "\n",
    "*Grading: 2 pts*\n"
   ]
  },
  {
   "cell_type": "code",
   "execution_count": 22,
   "metadata": {},
   "outputs": [
    {
     "name": "stdout",
     "output_type": "stream",
     "text": [
      "(20, 15, 1500)\n",
      "(300, 1488)\n",
      "(5500,)\n",
      "(1489,)\n"
     ]
    }
   ],
   "source": [
    "var = io.loadmat('../data/nds_cl_5_data.mat')\n",
    "\n",
    "# t contains the spike times of the neuron\n",
    "t = var['DN_spiketimes'].flatten()    \n",
    "\n",
    "# trigger contains the times at which the stimulus flipped\n",
    "trigger = var['DN_triggertimes'].flatten()\n",
    "\n",
    "# contains the stimulus movie with black and white pixels\n",
    "s = var['DN_stim']\n",
    "print(s.shape)\n",
    "s = s.reshape((300,1500)) # the shape of each frame is (20, 15)\n",
    "s = s[:,1:len(trigger)]\n",
    "print(s.shape) \n",
    "print(t.shape)\n",
    "print(trigger.shape)\n"
   ]
  },
  {
   "cell_type": "markdown",
   "metadata": {},
   "source": [
    "Create vector of spike counts"
   ]
  },
  {
   "cell_type": "code",
   "execution_count": 23,
   "metadata": {},
   "outputs": [
    {
     "name": "stdout",
     "output_type": "stream",
     "text": [
      "(1488,)\n",
      "[6. 6. 9. 7. 5. 6. 8. 6. 4. 6.]\n"
     ]
    }
   ],
   "source": [
    "# insert your code here \n",
    "\n",
    "# ------------------------------------------\n",
    "# Bin the spike counts at the same temporal\n",
    "# resolution as the stimulus (0.5 pts)\n",
    "# ------------------------------------------\n",
    "\n",
    "spikes = np.zeros((len(trigger)-1)) \n",
    "for i in range(len(trigger)-1):\n",
    "        spikes[i] = len(t[(t>=trigger[i]) & (t<trigger[i+1])])\n",
    "print(spikes.shape) \n",
    "print(spikes[0:10])\n"
   ]
  },
  {
   "cell_type": "markdown",
   "metadata": {},
   "source": [
    "Fit receptive field for each frame separately"
   ]
  },
  {
   "cell_type": "code",
   "execution_count": 48,
   "metadata": {},
   "outputs": [
    {
     "name": "stdout",
     "output_type": "stream",
     "text": [
      "(300,)\n",
      "Warning: Desired error not necessarily achieved due to precision loss.\n",
      "         Current function value: 3004.673768\n",
      "         Iterations: 313\n",
      "         Function evaluations: 478\n",
      "         Gradient evaluations: 478\n",
      "Warning: Desired error not necessarily achieved due to precision loss.\n",
      "         Current function value: 2890.047513\n",
      "         Iterations: 317\n",
      "         Function evaluations: 477\n",
      "         Gradient evaluations: 477\n",
      "Warning: Desired error not necessarily achieved due to precision loss.\n",
      "         Current function value: 2984.252254\n",
      "         Iterations: 335\n",
      "         Function evaluations: 542\n",
      "         Gradient evaluations: 530\n",
      "Warning: Desired error not necessarily achieved due to precision loss.\n",
      "         Current function value: 2955.824315\n",
      "         Iterations: 310\n",
      "         Function evaluations: 476\n",
      "         Gradient evaluations: 476\n",
      "Warning: Desired error not necessarily achieved due to precision loss.\n",
      "         Current function value: 2967.275796\n",
      "         Iterations: 323\n",
      "         Function evaluations: 488\n",
      "         Gradient evaluations: 488\n"
     ]
    },
    {
     "data": {
      "text/plain": [
       "Text(0.5, 1.0, 'lag 4')"
      ]
     },
     "execution_count": 48,
     "metadata": {},
     "output_type": "execute_result"
    }
   ],
   "source": [
    "# insert your code here \n",
    "\n",
    "# ------------------------------------------\n",
    "# Fit the receptive field with time lags of\n",
    "# 0 to 4 frames separately (1 pt)\n",
    "# \n",
    "# The final receptive field (`w_hat`) should\n",
    "# be in the shape of (Dx * Dy, 5)\n",
    "# ------------------------------------------\n",
    "def gen_gauss_rf_multiD(D,F, width, center=(0,0)):\n",
    "    \n",
    "    sz = (D-1)/2\n",
    "    sy = (F-1)/2\n",
    "    x, y = np.meshgrid(np.arange(-sy, sy + 1), np.arange(-sz, sz + 1))\n",
    "    x = x + center[0]\n",
    "    y = y + center[1]\n",
    "    w = np.exp(- (x ** 2/width + y ** 2 / width))\n",
    "    w = w / np.sum(w.flatten())\n",
    "    \n",
    "    return w\n",
    "\n",
    "\n",
    "# specify the time lags\n",
    "delta = [0, 1, 2, 3, 4] \n",
    "# intial guess for the receptive field\n",
    "w0 = gen_gauss_rf_multiD(20, 15, 2)\n",
    "w0 = w0.flatten()   \n",
    "print(w0.shape) \n",
    "\n",
    "met = 'BFGS'\n",
    "res_lag_0 = opt.minimize(L_omega, x0=w0, args=(spikes, s), jac=dL_omega, method=met, options={'disp': True, 'maxiter': 6000})\n",
    "res_lag_1 = opt.minimize(L_omega, x0=w0, args=(spikes[1:], s[:, :-1]), jac=dL_omega, method=met, options={'disp': True, 'maxiter': 6000})\n",
    "res_lag_2 = opt.minimize(L_omega, x0=w0, args=(spikes[2:], s[:, :-2]), jac=dL_omega, method=met, options={'disp': True, 'maxiter': 6000})\n",
    "res_lag_3 = opt.minimize(L_omega, x0=w0, args=(spikes[3:], s[:, :-3]), jac=dL_omega, method=met, options={'disp': True, 'maxiter': 6000})\n",
    "res_lag_4 = opt.minimize(L_omega, x0=w0, args=(spikes[4:], s[:, :-4]), jac=dL_omega, method=met, options={'disp': True, 'maxiter': 6000})\n",
    "\n",
    "# fit for each delay"
   ]
  },
  {
   "cell_type": "markdown",
   "metadata": {},
   "source": [
    "Plot the frames one by one"
   ]
  },
  {
   "cell_type": "code",
   "execution_count": 49,
   "metadata": {},
   "outputs": [
    {
     "data": {
      "text/plain": [
       "Text(0.5, 1.0, 'lag 4')"
      ]
     },
     "execution_count": 49,
     "metadata": {},
     "output_type": "execute_result"
    }
   ],
   "source": [
    "# insert your code here \n",
    "\n",
    "# --------------------------------------------\n",
    "# Plot all 5 frames of the fitted RFs (0.5 pt)\n",
    "# --------------------------------------------\n",
    "\n",
    "fig, ax = plt.subplot_mosaic(mosaic=[delta], figsize=(10,4), constrained_layout=True)\n",
    "ax[0].imshow(res_lag_0.x.reshape((20,15)), cmap='bwr',)  \n",
    "ax[0].set_title(\"lag 0\")\n",
    "ax[1].imshow(res_lag_1.x.reshape((20,15)), cmap='bwr',)\n",
    "ax[1].set_title(\"lag 1\")\n",
    "ax[2].imshow(res_lag_2.x.reshape((20,15)), cmap='bwr',)\n",
    "ax[2].set_title(\"lag 2\")\n",
    "ax[3].imshow(res_lag_3.x.reshape((20,15)), cmap='bwr',)\n",
    "ax[3].set_title(\"lag 3\")\n",
    "ax[4].imshow(res_lag_4.x.reshape((20,15)), cmap='bwr',)\n",
    "ax[4].set_title(\"lag 4\")"
   ]
  },
  {
   "cell_type": "markdown",
   "metadata": {},
   "source": [
    "## Task 3: Separate space/time components\n",
    "\n",
    "The receptive field of the neuron can be decomposed into a spatial and a temporal component. Because of the way we computed them, both are independent and the resulting spatio-temporal component is thus called separable. As discussed in the lecture, you can use singular-value decomposition to separate these two: \n",
    "\n",
    "$$\n",
    "W = u_1 s_1 v_1^T\n",
    "$$\n",
    "\n",
    "Here $u_1$ and $v_1$ are the singular vectors belonging to the 1st singular value $s_1$ and provide a long rank approximation of W, the array with all receptive fields. It is important that the mean is subtracted before computing the SVD.  \n",
    "\n",
    "Plot the first temporal component and the first spatial component. You can use a Python implementation of SVD. The results can look a bit puzzling, because the sign of the components is arbitrary.\n",
    "\n",
    "*Grading: 1 pts*"
   ]
  },
  {
   "cell_type": "code",
   "execution_count": null,
   "metadata": {},
   "outputs": [],
   "source": [
    "# insert your code here \n",
    "\n",
    "# --------------------------------------------\n",
    "# Apply SVD to the fitted receptive field,\n",
    "# you can use either numpy or sklearn (0.5 pt)\n",
    "# --------------------------------------------\n",
    "\n",
    "# shape of w_hat: (300,5). \n",
    "# subtract mean along axis=1 (time) since for every timelag the RF is estimated independently\n",
    "\n",
    "# -------------------------------------------------\n",
    "# Plot the spatial and temporal components (0.5 pt)\n",
    "# -------------------------------------------------\n",
    "\n",
    "fig, ax = plt.subplot_mosaic(mosaic=[['Spatial', 'Temporal']], figsize=(10,4), constrained_layout=True)\n",
    "# add plot\n"
   ]
  },
  {
   "cell_type": "markdown",
   "metadata": {},
   "source": [
    "## Task 4: Regularized receptive field\n",
    "\n",
    "As you can see, maximum likelihood estimation of linear receptive fields can be quite noisy, if little data is available. \n",
    "\n",
    "To improve on this, one can regularize the receptive field vector and a term to the cost function\n",
    "\n",
    "\n",
    "$$\n",
    "C(w) = L(w) + \\alpha ||w||_p^2\n",
    "$$\n",
    "\n",
    "Here, the $p$ indicates which norm of $w$ is used: for $p=2$, this is shrinks all coefficient equally to zero; for $p=1$, it favors sparse solutions, a penality also known as lasso. Because the 1-norm is not smooth at zero, it is not as straightforward to implement \"by hand\". \n",
    "\n",
    "Use a toolbox with an implementation of the lasso-penalization and fit the receptive field. Possibly, you will have to try different values of the regularization parameter $\\alpha$. Plot your estimates from above and the lasso-estimates. How do they differ? What happens when you increase or decrease $alpha$?\n",
    "\n",
    "If you want to keep the Poisson noise model, you can use the implementation in [`pyglmnet`](https://pypi.python.org/pypi/pyglmnet). Otherwise, you can also resort to the linear model from `sklearn` which assumes Gaussian noise (which in my hands was much faster).\n",
    "\n",
    "*Grading: 2 pts*\n"
   ]
  },
  {
   "cell_type": "code",
   "execution_count": null,
   "metadata": {},
   "outputs": [],
   "source": [
    "from sklearn import linear_model\n",
    "\n",
    "# insert your code here \n",
    "\n",
    "# ------------------------------------------\n",
    "# Fit the receptive field with time lags of\n",
    "# 0 to 4 frames separately (the same as before) \n",
    "# with sklern or pyglmnet (1 pt)\n",
    "# ------------------------------------------\n",
    "\n",
    "delta = [0, 1, 2, 3, 4]\n"
   ]
  },
  {
   "cell_type": "code",
   "execution_count": null,
   "metadata": {},
   "outputs": [],
   "source": [
    "# ------------------------------------------\n",
    "# plot the estimated receptive fields (1 pt)\n",
    "# ------------------------------------------\n",
    "\n",
    "fig, ax = plt.subplot_mosaic(mosaic=[delta], figsize=(10,4), constrained_layout=True)\n",
    "# add plot"
   ]
  }
 ],
 "metadata": {
  "kernelspec": {
   "display_name": "python3",
   "language": "python",
   "name": "python3"
  },
  "language_info": {
   "codemirror_mode": {
    "name": "ipython",
    "version": 3
   },
   "file_extension": ".py",
   "mimetype": "text/x-python",
   "name": "python",
   "nbconvert_exporter": "python",
   "pygments_lexer": "ipython3",
   "version": "3.11.3"
  }
 },
 "nbformat": 4,
 "nbformat_minor": 1
}
